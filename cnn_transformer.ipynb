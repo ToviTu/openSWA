{
  "nbformat": 4,
  "nbformat_minor": 0,
  "metadata": {
    "colab": {
      "provenance": [],
      "gpuType": "T4"
    },
    "kernelspec": {
      "name": "python3",
      "display_name": "Python 3"
    },
    "language_info": {
      "name": "python"
    },
    "accelerator": "GPU"
  },
  "cells": [
    {
      "cell_type": "code",
      "source": [
        "from google.colab import drive\n",
        "drive.mount('/content/drive')"
      ],
      "metadata": {
        "colab": {
          "base_uri": "https://localhost:8080/"
        },
        "id": "Q5H96C0Qwm1Z",
        "outputId": "9d2b8543-5de5-4bf5-8049-1ade315c52bd"
      },
      "execution_count": null,
      "outputs": [
        {
          "output_type": "stream",
          "name": "stdout",
          "text": [
            "Mounted at /content/drive\n"
          ]
        }
      ]
    },
    {
      "cell_type": "code",
      "source": [
        "import numpy as np\n",
        "import pandas as pd\n",
        "import matplotlib.pyplot as plt\n",
        "import torch\n",
        "import torch.nn as nn\n",
        "import torch.nn.functional as F\n",
        "import torch.optim as optim\n",
        "from torch.utils.data import Dataset, DataLoader\n",
        "from sklearn.model_selection import train_test_split\n",
        "from sklearn.preprocessing import normalize"
      ],
      "metadata": {
        "id": "GEtqGzTFxN7Y"
      },
      "execution_count": null,
      "outputs": []
    },
    {
      "cell_type": "markdown",
      "source": [
        "## Data Preperation"
      ],
      "metadata": {
        "id": "CXwlLuCMxIrO"
      }
    },
    {
      "cell_type": "code",
      "source": [
        "# ! cp drive/MyDrive/Data/raw_swa.npz ./"
      ],
      "metadata": {
        "id": "OMqCeJV8wnwF"
      },
      "execution_count": null,
      "outputs": []
    },
    {
      "cell_type": "code",
      "source": [
        "raw = np.load('raw_swa.npz')\n",
        "y = raw['label']\n",
        "X = raw['raw_recording']\n",
        "X = X[1]\n",
        "\n",
        "num_sequences = len(X) // 2000\n",
        "X = X[:num_sequences * 2000].reshape(num_sequences, 2000)\n",
        "y = y[:num_sequences]"
      ],
      "metadata": {
        "id": "qlDSvnsIxMxz"
      },
      "execution_count": null,
      "outputs": []
    },
    {
      "cell_type": "markdown",
      "source": [
        "## Model 1: ConvNet"
      ],
      "metadata": {
        "id": "VuMRhutiyPq_"
      }
    },
    {
      "cell_type": "code",
      "source": [
        "X_train, X_test, y_train, y_test = train_test_split(X, y, test_size=0.2, random_state=42, shuffle=True)"
      ],
      "metadata": {
        "id": "q-bo-Mi-x1gL"
      },
      "execution_count": null,
      "outputs": []
    },
    {
      "cell_type": "code",
      "source": [
        "class ConvNetData(Dataset):\n",
        "    def __init__(self, X, y):\n",
        "        self.recording = torch.tensor(X).float()\n",
        "        self.recording = self.recording.unsqueeze(1)\n",
        "        self.labels = torch.tensor(y).long()\n",
        "\n",
        "    def __len__(self):\n",
        "        return self.recording.shape[0]\n",
        "\n",
        "    def __getitem__(self, idx):\n",
        "        return self.recording[idx], self.labels[idx]\n",
        "\n",
        "def to_tensor(batch):\n",
        "    X = torch.stack([batch[i][0] for i in range(len(batch))])\n",
        "    y = torch.stack([batch[i][1] for i in range(len(batch))])\n",
        "\n",
        "    return X, y"
      ],
      "metadata": {
        "id": "23LcD9pW_AZo"
      },
      "execution_count": null,
      "outputs": []
    },
    {
      "cell_type": "code",
      "source": [
        "class ConvNet(nn.Module):\n",
        "    def __init__(self):\n",
        "        super(ConvNet, self).__init__()\n",
        "\n",
        "        self.encode = nn.Sequential(\n",
        "            nn.Conv1d(1, 16, 5),\n",
        "            nn.BatchNorm1d(16),\n",
        "            nn.LeakyReLU(),\n",
        "            nn.MaxPool1d(2),\n",
        "            nn.Conv1d(16, 32, 5),\n",
        "            nn.BatchNorm1d(32),\n",
        "            nn.LeakyReLU(),\n",
        "            nn.MaxPool1d(2),\n",
        "            nn.Conv1d(32, 64, 5),\n",
        "            nn.BatchNorm1d(64),\n",
        "            nn.LeakyReLU(),\n",
        "            nn.MaxPool1d(2),\n",
        "        )\n",
        "\n",
        "        self.label_head = nn.Sequential(\n",
        "            nn.Linear(64 * 246, 128),\n",
        "            nn.BatchNorm1d(128),\n",
        "            nn.LeakyReLU(),\n",
        "            nn.Linear(128, 32),\n",
        "            nn.BatchNorm1d(32),\n",
        "            nn.LeakyReLU(),\n",
        "            nn.Linear(32, 3),\n",
        "        )\n",
        "\n",
        "    def forward(self, x):\n",
        "        x = self.encode(x)\n",
        "        x = x.flatten(start_dim=1)\n",
        "        x = self.label_head(x)\n",
        "        return x"
      ],
      "metadata": {
        "id": "bqqLQKcjyqg_"
      },
      "execution_count": null,
      "outputs": []
    },
    {
      "cell_type": "code",
      "source": [
        "data_train = ConvNetData(X_train, y_train)\n",
        "data_test = ConvNetData(X_test, y_test)\n",
        "loader_train = DataLoader(data_train, batch_size=64, collate_fn=to_tensor)"
      ],
      "metadata": {
        "id": "nGlcXpp0y7ye"
      },
      "execution_count": null,
      "outputs": []
    },
    {
      "cell_type": "code",
      "source": [
        "# Training\n",
        "\n",
        "model = ConvNet()\n",
        "criterion = nn.CrossEntropyLoss(weight=torch.tensor([0.005, 0.005, 5]).to(0))\n",
        "optimizer = optim.Adam(model.parameters(), lr=1e-4)\n",
        "epochs = 100\n",
        "\n",
        "model.to(0)\n",
        "count = 0\n",
        "for epoch in range(epochs):\n",
        "    model.train()\n",
        "    for X, y in loader_train:\n",
        "        count += 1\n",
        "        optimizer.zero_grad()\n",
        "        output = model(X.to(0))\n",
        "        loss = criterion(output, y.to(0))\n",
        "        loss.backward()\n",
        "        optimizer.step()\n",
        "\n",
        "        # if count % 100 == 0:\n",
        "        #     print(f'Loss: {loss.item()}')"
      ],
      "metadata": {
        "id": "atAk4TOp156m"
      },
      "execution_count": null,
      "outputs": []
    },
    {
      "cell_type": "code",
      "source": [
        "# Test\n",
        "\n",
        "loader_test = DataLoader(data_test, batch_size=1, collate_fn=to_tensor)\n",
        "model.eval()\n",
        "\n",
        "true_labels = []\n",
        "pred_labels = []\n",
        "for X, y in loader_test:\n",
        "    output = model(X.to(0))\n",
        "    pred = output.argmax(dim=1).item()\n",
        "    true = y.item()\n",
        "    pred_labels.append(pred)\n",
        "    true_labels.append(true)"
      ],
      "metadata": {
        "id": "1i0X-MuxExwX"
      },
      "execution_count": null,
      "outputs": []
    },
    {
      "cell_type": "code",
      "source": [
        "from sklearn.metrics import confusion_matrix, accuracy_score, f1_score\n",
        "import seaborn as sns\n",
        "import matplotlib.pyplot as plt\n",
        "import numpy as np\n",
        "import seaborn as sns\n",
        "\n",
        "# Compute the confusion matrix\n",
        "cm = confusion_matrix(true_labels, pred_labels)\n",
        "\n",
        "# Normalization can be applied by setting 'normalize=True'\n",
        "cm_normalized = cm.astype('float') / cm.sum(axis=1)[:, np.newaxis]\n",
        "\n",
        "# Calculate accuracy and other metrics\n",
        "accuracy = accuracy_score(true_labels, pred_labels)\n",
        "\n",
        "print(f'Accuracy: {accuracy}')\n",
        "\n",
        "# Plotting the confusion matrix using seaborn\n",
        "fig, ax = plt.subplots(figsize=(5, 4))\n",
        "sns.heatmap(cm_normalized, annot=True, ax=ax, cmap='Blues', fmt='.2f')\n",
        "\n",
        "# Labels, title and ticks\n",
        "label_classes = np.unique(true_labels)\n",
        "ax.set_xlabel('Predicted labels')\n",
        "ax.set_ylabel('True labels')\n",
        "ax.set_title('Normalized Confusion Matrix')\n",
        "ax.xaxis.set_ticklabels(label_classes)\n",
        "ax.yaxis.set_ticklabels(label_classes)\n",
        "plt.show()"
      ],
      "metadata": {
        "colab": {
          "base_uri": "https://localhost:8080/",
          "height": 427
        },
        "id": "H3yogP7XA9QG",
        "outputId": "73cddd5f-a558-47a3-99d6-35f6625b0aa4"
      },
      "execution_count": null,
      "outputs": [
        {
          "output_type": "stream",
          "name": "stdout",
          "text": [
            "Accuracy: 0.8231481481481482\n"
          ]
        },
        {
          "output_type": "display_data",
          "data": {
            "text/plain": [
              "<Figure size 500x400 with 2 Axes>"
            ],
            "image/png": "[encoded data removed]"
          },
          "metadata": {}
        }
      ]
    },
    {
      "cell_type": "code",
      "source": [
        "from torchsummary import summary\n",
        "summary(model, (1, 2000))"
      ],
      "metadata": {
        "colab": {
          "base_uri": "https://localhost:8080/"
        },
        "id": "3HASr_DxuxFK",
        "outputId": "499dad8d-6962-49e7-bee7-2a7ee3b25513"
      },
      "execution_count": null,
      "outputs": [
        {
          "output_type": "stream",
          "name": "stdout",
          "text": [
            "----------------------------------------------------------------\n",
            "        Layer (type)               Output Shape         Param #\n",
            "================================================================\n",
            "            Conv1d-1             [-1, 16, 1996]              96\n",
            "       BatchNorm1d-2             [-1, 16, 1996]              32\n",
            "         LeakyReLU-3             [-1, 16, 1996]               0\n",
            "         MaxPool1d-4              [-1, 16, 998]               0\n",
            "            Conv1d-5              [-1, 32, 994]           2,592\n",
            "       BatchNorm1d-6              [-1, 32, 994]              64\n",
            "         LeakyReLU-7              [-1, 32, 994]               0\n",
            "         MaxPool1d-8              [-1, 32, 497]               0\n",
            "            Conv1d-9              [-1, 64, 493]          10,304\n",
            "      BatchNorm1d-10              [-1, 64, 493]             128\n",
            "        LeakyReLU-11              [-1, 64, 493]               0\n",
            "        MaxPool1d-12              [-1, 64, 246]               0\n",
            "           Linear-13                  [-1, 128]       2,015,360\n",
            "      BatchNorm1d-14                  [-1, 128]             256\n",
            "        LeakyReLU-15                  [-1, 128]               0\n",
            "           Linear-16                   [-1, 32]           4,128\n",
            "      BatchNorm1d-17                   [-1, 32]              64\n",
            "        LeakyReLU-18                   [-1, 32]               0\n",
            "           Linear-19                    [-1, 3]              99\n",
            "================================================================\n",
            "Total params: 2,033,123\n",
            "Trainable params: 2,033,123\n",
            "Non-trainable params: 0\n",
            "----------------------------------------------------------------\n",
            "Input size (MB): 0.01\n",
            "Forward/backward pass size (MB): 2.55\n",
            "Params size (MB): 7.76\n",
            "Estimated Total Size (MB): 10.31\n",
            "----------------------------------------------------------------\n"
          ]
        }
      ]
    },
    {
      "cell_type": "code",
      "source": [
        "raw = np.load('raw_swa.npz')\n",
        "y = raw['label']\n",
        "X = raw['raw_recording']\n",
        "X = X[1]\n",
        "\n",
        "num_sequences = len(X) // 2000\n",
        "X = X[:num_sequences * 2000].reshape(num_sequences, 2000)\n",
        "y = y[:num_sequences]\n",
        "\n",
        "X_train, X_test, y_train, y_test = train_test_split(X, y, test_size=0.2, random_state=42, shuffle=False)\n",
        "data_test = ConvNetData(X_test, y_test)\n",
        "loader_test = DataLoader(data_test, batch_size=1, collate_fn=to_tensor)\n",
        "model.eval()\n",
        "\n",
        "true_labels = []\n",
        "pred_labels = []\n",
        "for X, y in loader_test:\n",
        "    output = model(X.to(0))\n",
        "    pred = output.argmax(dim=1).item()\n",
        "    true = y.item()\n",
        "    pred_labels.append(pred)\n",
        "    true_labels.append(true)"
      ],
      "metadata": {
        "id": "hozEWsxmPsgh"
      },
      "execution_count": null,
      "outputs": []
    },
    {
      "cell_type": "code",
      "source": [
        "fig, axs = plt.subplots(1, 1, figsize=(10, 3))\n",
        "\n",
        "axs.plot(range(3600), pred_labels[:3600])\n",
        "axs.plot(range(3600), true_labels[:3600])\n",
        "axs.legend([\"Prediction\", \"Ground Truth\"])\n",
        "axs.set_xlabel(\"Time (4s)\")\n",
        "axs.set_ylabel(\"Label\")\n",
        "axs.set_title(\"CNN Prediction vs Ground Truth\")\n",
        "plt.show()"
      ],
      "metadata": {
        "colab": {
          "base_uri": "https://localhost:8080/",
          "height": 333
        },
        "id": "FjD7l-ljRd1E",
        "outputId": "0852960d-c6ab-4d43-e2e2-a19dc3a39ba3"
      },
      "execution_count": null,
      "outputs": [
        {
          "output_type": "display_data",
          "data": {
            "text/plain": [
              "<Figure size 1000x300 with 1 Axes>"
            ],
            "image/png": "[encoded data removed]"
          },
          "metadata": {}
        }
      ]
    },
    {
      "cell_type": "markdown",
      "source": [
        "## Model 2: Transformer"
      ],
      "metadata": {
        "id": "bahK0viiJomx"
      }
    },
    {
      "cell_type": "code",
      "source": [
        "seq_len = 30\n",
        "raw = np.load('raw_swa.npz')\n",
        "y = raw['label']\n",
        "X = raw['raw_recording']\n",
        "X = X[1]"
      ],
      "metadata": {
        "id": "EiQamX57FUsZ"
      },
      "execution_count": null,
      "outputs": []
    },
    {
      "cell_type": "code",
      "source": [
        "num_sequences = len(X) // (2000 * seq_len)\n",
        "X = X[:num_sequences * 2000 * seq_len].reshape(num_sequences, -1)\n",
        "y = y[:num_sequences * seq_len].reshape(-1, seq_len)"
      ],
      "metadata": {
        "id": "Ort6S28yMy_W"
      },
      "execution_count": null,
      "outputs": []
    },
    {
      "cell_type": "code",
      "source": [
        "X_train, X_test, y_train, y_test = train_test_split(X, y, test_size=0.2, random_state=42, shuffle=True)"
      ],
      "metadata": {
        "id": "efiK6jxZKQ-Y"
      },
      "execution_count": null,
      "outputs": []
    },
    {
      "cell_type": "code",
      "source": [
        "class TData(Dataset):\n",
        "    def __init__(self, X, y):\n",
        "        self.X = torch.tensor(X, dtype=torch.float32).unsqueeze(1)\n",
        "        self.y = torch.tensor(y, dtype=torch.long)\n",
        "\n",
        "    def __len__(self):\n",
        "        return len(self.X)\n",
        "\n",
        "    def __getitem__(self, idx):\n",
        "        return self.X[idx], self.y[idx]"
      ],
      "metadata": {
        "id": "yZq5avUNK4oZ"
      },
      "execution_count": null,
      "outputs": []
    },
    {
      "cell_type": "code",
      "source": [
        "class AttenNet(nn.Module):\n",
        "    def __init__(self, hidden_size, num_classes, classifier, num_layers=4):\n",
        "        super(AttenNet, self).__init__()\n",
        "\n",
        "        self.seq_embedding = classifier\n",
        "\n",
        "        self.upsample = nn.Linear(3, hidden_size)\n",
        "\n",
        "        self.positional_embedding = nn.Parameter(torch.randn(seq_len, hidden_size) / hidden_size ** 0.5)\n",
        "\n",
        "        encoder_layer = nn.TransformerEncoderLayer(\n",
        "            d_model=hidden_size,\n",
        "            nhead=4,\n",
        "            dim_feedforward=hidden_size * 4,\n",
        "            activation=nn.GELU(),\n",
        "            batch_first=True\n",
        "        )\n",
        "        self.transformer = nn.TransformerEncoder(encoder_layer, num_layers=num_layers)\n",
        "\n",
        "        self.classifier = nn.Linear(hidden_size, num_classes)\n",
        "\n",
        "    def forward(self, x):\n",
        "        logit = []\n",
        "        for i in range(x.size(1)):\n",
        "            logit.append(self.seq_embedding(x[:, [i]]))\n",
        "        x = torch.stack(logit, dim=1)\n",
        "        #x = F.softmax(x, dim=-1)\n",
        "        x = self.upsample(x)\n",
        "        x = x.view(x.size(0), seq_len, -1)\n",
        "        x = x + self.positional_embedding[: seq_len].unsqueeze(0)\n",
        "        x = self.transformer(\n",
        "            x\n",
        "        )\n",
        "        x = self.classifier(x)\n",
        "        return x"
      ],
      "metadata": {
        "id": "-sKbYaMBLT8x"
      },
      "execution_count": null,
      "outputs": []
    },
    {
      "cell_type": "code",
      "source": [
        "data_train = TData(X_train, y_train)\n",
        "loader_train = DataLoader(data_train, batch_size=32)\n",
        "data_test = TData(X_test, y_test)\n",
        "loader_test = DataLoader(data_test, batch_size=1)"
      ],
      "metadata": {
        "id": "udCDfjrvOYnJ"
      },
      "execution_count": null,
      "outputs": []
    },
    {
      "cell_type": "code",
      "source": [
        "import torch\n",
        "import torch.nn as nn\n",
        "import torch.nn.functional as F\n",
        "\n",
        "class MultiClassDiceLoss1D(nn.Module):\n",
        "    def __init__(self, weights=None, ignore_index=None, smooth=1.0):\n",
        "        super(MultiClassDiceLoss1D, self).__init__()\n",
        "        self.weights = weights\n",
        "        self.ignore_index = ignore_index\n",
        "        self.smooth = smooth\n",
        "\n",
        "    def forward(self, inputs, targets):\n",
        "        # Assuming that inputs are logits\n",
        "        inputs = F.softmax(inputs, dim=1)\n",
        "\n",
        "        # Create the one-hot encoding of targets\n",
        "        targets_one_hot = F.one_hot(targets, num_classes=inputs.shape[1]).permute(0, 2, 1).float()\n",
        "\n",
        "        # Apply weights if provided\n",
        "        if self.weights is not None:\n",
        "            weights = torch.tensor(self.weights).float().to(inputs.device)\n",
        "        else:\n",
        "            weights = torch.ones(inputs.shape[1]).float().to(inputs.device)\n",
        "\n",
        "        # Calculate Dice coefficient for each class and then average\n",
        "        total_loss = 0\n",
        "        for class_idx in range(inputs.shape[1]):\n",
        "            if self.ignore_index is not None and class_idx == self.ignore_index:\n",
        "                continue\n",
        "            intersect = (inputs[:, class_idx] * targets_one_hot[:, class_idx]).sum()\n",
        "            denominator = inputs[:, class_idx].sum() + targets_one_hot[:, class_idx].sum()\n",
        "\n",
        "            # Dice score for this class\n",
        "            dice_score = (2. * intersect + self.smooth) / (denominator + self.smooth)\n",
        "            class_loss = 1 - dice_score\n",
        "\n",
        "            # Weighted loss for this class\n",
        "            total_loss += class_loss * weights[class_idx]\n",
        "\n",
        "        return total_loss / weights.sum()\n",
        "\n",
        "dice = MultiClassDiceLoss1D([0.5, 0.2, 1])"
      ],
      "metadata": {
        "id": "6TrgVsUChTkY"
      },
      "execution_count": null,
      "outputs": []
    },
    {
      "cell_type": "code",
      "source": [
        "# Training\n",
        "\n",
        "model_atten = AttenNet(hidden_size=128, num_classes=3, classifier=model)\n",
        "criterion = nn.CrossEntropyLoss()\n",
        "model_atten.seq_embedding.requires_grad_(False)\n",
        "optimizer = optim.Adam([p for p in model_atten.parameters() if p.requires_grad], lr=1e-5)\n",
        "epochs = 100\n",
        "\n",
        "\n",
        "model_atten.to(0)\n",
        "count = 0\n",
        "for epoch in range(epochs):\n",
        "    for X, y in loader_train:\n",
        "        count += 1\n",
        "        optimizer.zero_grad()\n",
        "        output = model_atten(X.view(32, 30, -1).to(0))\n",
        "        output = output.permute(0, 2, 1)\n",
        "        loss = criterion(output, y.to(0))\n",
        "        loss.backward()\n",
        "        optimizer.step()\n",
        "\n",
        "        if count % 100 == 0:\n",
        "            print(f'Loss: {loss.item()}')"
      ],
      "metadata": {
        "colab": {
          "base_uri": "https://localhost:8080/"
        },
        "id": "TzUERmj1OdGb",
        "outputId": "d80369ea-14a5-479b-a8a4-c7b07bff9415"
      },
      "execution_count": null,
      "outputs": [
        {
          "output_type": "stream",
          "name": "stdout",
          "text": [
            "Loss: 0.09826754033565521\n",
            "Loss: 0.038660693913698196\n",
            "Loss: 0.01818651705980301\n",
            "Loss: 0.04039350897073746\n",
            "Loss: 0.04179464653134346\n",
            "Loss: 0.03872799873352051\n",
            "Loss: 0.04294448718428612\n",
            "Loss: 0.02583996020257473\n",
            "Loss: 0.013153632171452045\n",
            "Loss: 0.03303294628858566\n",
            "Loss: 0.010644180700182915\n",
            "Loss: 0.005368584301322699\n",
            "Loss: 0.028092224150896072\n",
            "Loss: 0.034856490790843964\n",
            "Loss: 0.026948977261781693\n",
            "Loss: 0.028141537681221962\n",
            "Loss: 0.020453447476029396\n",
            "Loss: 0.00895086769014597\n"
          ]
        }
      ]
    },
    {
      "cell_type": "code",
      "source": [
        "# Test\n",
        "\n",
        "model.eval()\n",
        "\n",
        "true_labels = []\n",
        "pred_labels = []\n",
        "for X, y in loader_test:\n",
        "    output = model_atten(X.view(1, 30, -1).to(0))\n",
        "    pred = output.argmax(dim=-1).squeeze(0)\n",
        "    true = y.squeeze(0)\n",
        "    pred_labels.append(pred)\n",
        "    true_labels.append(true)\n",
        "\n",
        "true_labels = torch.cat(true_labels).cpu().numpy()\n",
        "pred_labels = torch.cat(pred_labels).cpu().numpy()"
      ],
      "metadata": {
        "id": "qs8eL4TqSVPz"
      },
      "execution_count": null,
      "outputs": []
    },
    {
      "cell_type": "code",
      "source": [
        "from sklearn.metrics import confusion_matrix, accuracy_score, f1_score\n",
        "import seaborn as sns\n",
        "import matplotlib.pyplot as plt\n",
        "import numpy as np\n",
        "import seaborn as sns\n",
        "\n",
        "# Compute the confusion matrix\n",
        "cm = confusion_matrix(true_labels, pred_labels)\n",
        "\n",
        "# Normalization can be applied by setting 'normalize=True'\n",
        "cm_normalized = cm.astype('float') / cm.sum(axis=1)[:, np.newaxis]\n",
        "\n",
        "# Calculate accuracy and other metrics\n",
        "accuracy = accuracy_score(true_labels, pred_labels)\n",
        "\n",
        "print(f'Accuracy: {accuracy}')\n",
        "\n",
        "# Plotting the confusion matrix using seaborn\n",
        "fig, ax = plt.subplots(figsize=(5, 4))\n",
        "sns.heatmap(cm_normalized, annot=True, ax=ax, cmap='Blues', fmt='.2f')\n",
        "\n",
        "# Labels, title and ticks\n",
        "label_classes = np.unique(true_labels)\n",
        "ax.set_xlabel('Predicted labels')\n",
        "ax.set_ylabel('True labels')\n",
        "ax.set_title('Normalized Confusion Matrix')\n",
        "ax.xaxis.set_ticklabels(label_classes)\n",
        "ax.yaxis.set_ticklabels(label_classes)"
      ],
      "metadata": {
        "colab": {
          "base_uri": "https://localhost:8080/",
          "height": 445
        },
        "id": "3QgeO0rTS0lG",
        "outputId": "7bc59a2a-8529-4251-ba3c-87912c58b093"
      },
      "execution_count": null,
      "outputs": [
        {
          "output_type": "stream",
          "name": "stdout",
          "text": [
            "Accuracy: 0.9868055555555556\n"
          ]
        },
        {
          "output_type": "execute_result",
          "data": {
            "text/plain": [
              "[Text(0, 0.5, '0'), Text(0, 1.5, '1'), Text(0, 2.5, '2')]"
            ]
          },
          "metadata": {},
          "execution_count": 87
        },
        {
          "output_type": "display_data",
          "data": {
            "text/plain": [
              "<Figure size 500x400 with 2 Axes>"
            ],
            "image/png": "[encoded data removed]"
          },
          "metadata": {}
        }
      ]
    },
    {
      "cell_type": "code",
      "source": [
        "model_atten"
      ],
      "metadata": {
        "colab": {
          "base_uri": "https://localhost:8080/"
        },
        "id": "KIP57dnXvh8K",
        "outputId": "d914ceb0-caf8-4d8a-a22d-7653a47ecb84"
      },
      "execution_count": null,
      "outputs": [
        {
          "output_type": "execute_result",
          "data": {
            "text/plain": [
              "AttenNet(\n",
              "  (seq_embedding): ConvNet(\n",
              "    (encode): Sequential(\n",
              "      (0): Conv1d(1, 16, kernel_size=(5,), stride=(1,))\n",
              "      (1): BatchNorm1d(16, eps=1e-05, momentum=0.1, affine=True, track_running_stats=True)\n",
              "      (2): LeakyReLU(negative_slope=0.01)\n",
              "      (3): MaxPool1d(kernel_size=2, stride=2, padding=0, dilation=1, ceil_mode=False)\n",
              "      (4): Conv1d(16, 32, kernel_size=(5,), stride=(1,))\n",
              "      (5): BatchNorm1d(32, eps=1e-05, momentum=0.1, affine=True, track_running_stats=True)\n",
              "      (6): LeakyReLU(negative_slope=0.01)\n",
              "      (7): MaxPool1d(kernel_size=2, stride=2, padding=0, dilation=1, ceil_mode=False)\n",
              "      (8): Conv1d(32, 64, kernel_size=(5,), stride=(1,))\n",
              "      (9): BatchNorm1d(64, eps=1e-05, momentum=0.1, affine=True, track_running_stats=True)\n",
              "      (10): LeakyReLU(negative_slope=0.01)\n",
              "      (11): MaxPool1d(kernel_size=2, stride=2, padding=0, dilation=1, ceil_mode=False)\n",
              "    )\n",
              "    (label_head): Sequential(\n",
              "      (0): Linear(in_features=15744, out_features=128, bias=True)\n",
              "      (1): BatchNorm1d(128, eps=1e-05, momentum=0.1, affine=True, track_running_stats=True)\n",
              "      (2): LeakyReLU(negative_slope=0.01)\n",
              "      (3): Linear(in_features=128, out_features=32, bias=True)\n",
              "      (4): BatchNorm1d(32, eps=1e-05, momentum=0.1, affine=True, track_running_stats=True)\n",
              "      (5): LeakyReLU(negative_slope=0.01)\n",
              "      (6): Linear(in_features=32, out_features=3, bias=True)\n",
              "    )\n",
              "  )\n",
              "  (upsample): Linear(in_features=3, out_features=128, bias=True)\n",
              "  (transformer): TransformerEncoder(\n",
              "    (layers): ModuleList(\n",
              "      (0-3): 4 x TransformerEncoderLayer(\n",
              "        (self_attn): MultiheadAttention(\n",
              "          (out_proj): NonDynamicallyQuantizableLinear(in_features=128, out_features=128, bias=True)\n",
              "        )\n",
              "        (linear1): Linear(in_features=128, out_features=512, bias=True)\n",
              "        (dropout): Dropout(p=0.1, inplace=False)\n",
              "        (linear2): Linear(in_features=512, out_features=128, bias=True)\n",
              "        (norm1): LayerNorm((128,), eps=1e-05, elementwise_affine=True)\n",
              "        (norm2): LayerNorm((128,), eps=1e-05, elementwise_affine=True)\n",
              "        (dropout1): Dropout(p=0.1, inplace=False)\n",
              "        (dropout2): Dropout(p=0.1, inplace=False)\n",
              "        (activation): GELU(approximate='none')\n",
              "      )\n",
              "    )\n",
              "  )\n",
              "  (classifier): Linear(in_features=128, out_features=3, bias=True)\n",
              ")"
            ]
          },
          "metadata": {},
          "execution_count": 88
        }
      ]
    },
    {
      "cell_type": "code",
      "source": [
        "seq_len = 30\n",
        "raw = np.load('raw_swa.npz')\n",
        "y = raw['label']\n",
        "X = raw['raw_recording']\n",
        "X = X[1]\n",
        "\n",
        "num_sequences = len(X) // (2000 * seq_len)\n",
        "X = X[:num_sequences * 2000 * seq_len].reshape(num_sequences, -1)\n",
        "y = y[:num_sequences * seq_len].reshape(-1, seq_len)\n",
        "\n",
        "X_train, X_test, y_train, y_test = train_test_split(X, y, test_size=0.2, random_state=42)\n",
        "data_test = TData(X_test, y_test)\n",
        "loader_test = DataLoader(data_test, batch_size=1)\n",
        "\n",
        "model_atten.eval()\n",
        "\n",
        "true_labels = []\n",
        "pred_labels = []\n",
        "for X, y in loader_test:\n",
        "    output = model_atten(X.view(1, 30, -1).to(0))\n",
        "    pred = output.argmax(dim=-1).squeeze(0)\n",
        "    true = y.squeeze(0)\n",
        "    pred_labels.append(pred)\n",
        "    true_labels.append(true)\n",
        "\n",
        "true_labels = torch.cat(true_labels).cpu().numpy()\n",
        "pred_labels = torch.cat(pred_labels).cpu().numpy()"
      ],
      "metadata": {
        "id": "LmEqvr89SX7-"
      },
      "execution_count": null,
      "outputs": []
    },
    {
      "cell_type": "code",
      "source": [
        "fig, axs = plt.subplots(1, 1, figsize=(10, 3))\n",
        "\n",
        "axs.plot(range(3600), pred_labels[:3600])\n",
        "axs.plot(range(3600), true_labels[:3600])\n",
        "axs.legend([\"Prediction\", \"Ground Truth\"])\n",
        "axs.set_xlabel(\"Time (4s)\")\n",
        "axs.set_ylabel(\"Label\")\n",
        "axs.set_title(\"CNN+Transformer Prediction vs Ground Truth\")\n",
        "plt.show()"
      ],
      "metadata": {
        "colab": {
          "base_uri": "https://localhost:8080/",
          "height": 333
        },
        "id": "hvloRpSbSvUS",
        "outputId": "7a04d579-2e03-45a7-9c02-0b3848793d64"
      },
      "execution_count": null,
      "outputs": [
        {
          "output_type": "display_data",
          "data": {
            "text/plain": [
              "<Figure size 1000x300 with 1 Axes>"
            ],
            "image/png": "[encoded data removed]"
          },
          "metadata": {}
        }
      ]
    },
    {
      "cell_type": "markdown",
      "source": [
        "## Model 3"
      ],
      "metadata": {
        "id": "owmlIec7wi_N"
      }
    },
    {
      "cell_type": "code",
      "source": [
        "seq_len = 30\n",
        "raw = np.load('raw_swa.npz')\n",
        "y = raw['label']\n",
        "X = raw['raw_recording']\n",
        "X = X[1]"
      ],
      "metadata": {
        "id": "17BWnpxoG7EN"
      },
      "execution_count": null,
      "outputs": []
    },
    {
      "cell_type": "code",
      "source": [
        "num_sequences = len(X) // (2000 * seq_len)\n",
        "X = X[:num_sequences * 2000 * seq_len].reshape(num_sequences, -1)\n",
        "y = y[:num_sequences * seq_len].reshape(-1, seq_len)"
      ],
      "metadata": {
        "id": "yWBa5rDMx79a"
      },
      "execution_count": null,
      "outputs": []
    },
    {
      "cell_type": "code",
      "source": [
        "X_train, X_test, y_train, y_test = train_test_split(X, y, test_size=0.2, random_state=42)\n",
        "\n",
        "X_train = normalize(X_train)\n",
        "X_test = normalize(X_test)"
      ],
      "metadata": {
        "id": "RgJRA-LBWZky"
      },
      "execution_count": null,
      "outputs": []
    },
    {
      "cell_type": "code",
      "source": [
        "class TData(Dataset):\n",
        "    def __init__(self, X, y):\n",
        "        self.X = torch.tensor(X, dtype=torch.float32).unsqueeze(1)\n",
        "        self.y = torch.tensor(y, dtype=torch.long)\n",
        "\n",
        "    def __len__(self):\n",
        "        return len(self.X)\n",
        "\n",
        "    def __getitem__(self, idx):\n",
        "        return self.X[idx], self.y[idx]"
      ],
      "metadata": {
        "id": "8eaQd7PIJlvM"
      },
      "execution_count": null,
      "outputs": []
    },
    {
      "cell_type": "code",
      "source": [
        "class MAE(nn.Module):\n",
        "    def __init__(self, hidden_size=256):\n",
        "        super(MAE, self).__init__()\n",
        "\n",
        "        self.seq_embedding = nn.Sequential(\n",
        "            nn.Conv1d(1, 64, kernel_size=125, stride=125),\n",
        "            nn.BatchNorm1d(64),\n",
        "            nn.LeakyReLU(),\n",
        "            nn.Conv1d(64, hidden_size, kernel_size=16, stride=16),\n",
        "            nn.BatchNorm1d(hidden_size),\n",
        "            nn.LeakyReLU(),\n",
        "        )\n",
        "        self.positional_embedding = nn.Parameter(torch.randn(seq_len, hidden_size) / hidden_size ** 0.5)\n",
        "\n",
        "        encoder_layer = nn.TransformerEncoderLayer(\n",
        "            d_model=hidden_size,\n",
        "            nhead=4,\n",
        "            dim_feedforward=hidden_size * 4,\n",
        "            activation=nn.GELU(),\n",
        "            batch_first=True\n",
        "        )\n",
        "\n",
        "        self.encoder = nn.TransformerEncoder(encoder_layer, num_layers=2)\n",
        "        self.decoder = nn.TransformerEncoder(encoder_layer, num_layers=2)\n",
        "\n",
        "        self.reconstruct = nn.Sequential(\n",
        "            nn.ConvTranspose1d(256, 64, kernel_size=16, stride=16),\n",
        "            nn.BatchNorm1d(64),\n",
        "            nn.LeakyReLU(),\n",
        "            nn.ConvTranspose1d(64, 1, kernel_size=125, stride=125)\n",
        "        )\n",
        "\n",
        "    def encode(self, x, mask):\n",
        "        x = self.seq_embedding(x)\n",
        "        x = x.view(x.size(0), x.size(-1), -1)\n",
        "        x = x + self.positional_embedding\n",
        "        x = self.encoder(x, mask=mask)\n",
        "\n",
        "        return x\n",
        "\n",
        "    def decode(self, x):\n",
        "        x = self.decoder(x)\n",
        "        x = x.view(x.size(0), x.size(-1), -1)\n",
        "        x = self.reconstruct(x)\n",
        "\n",
        "        return x\n",
        "\n",
        "\n",
        "    def forward(self, x, mask):\n",
        "        x = self.encode(x, mask)\n",
        "        x = self.decode(x)\n",
        "        return x\n",
        "\n",
        "class MAE_classifier(nn.Module):\n",
        "    def __init__(self, encoder):\n",
        "        super(MAE_classifier, self).__init__()\n",
        "\n",
        "        self.encoder = encoder\n",
        "\n",
        "        self.classifier = nn.Sequential(\n",
        "            nn.Linear(7680, 1024),\n",
        "            nn.LeakyReLU(),\n",
        "            nn.Linear(1024, 256),\n",
        "            nn.LeakyReLU(),\n",
        "            nn.Linear(256, 3)\n",
        "        )\n",
        "\n",
        "    def forward(self, x):\n",
        "        x = self.encoder.encode(x, None)\n",
        "        x = x.flatten(start_dim=1)\n",
        "        x = x.view(x.size(0), -1)\n",
        "        x = self.classifier(x)\n",
        "\n",
        "        return x"
      ],
      "metadata": {
        "id": "V9s_HSemJmOB"
      },
      "execution_count": null,
      "outputs": []
    },
    {
      "cell_type": "code",
      "source": [
        "import torch\n",
        "import numpy as np\n",
        "\n",
        "def generate_mask(seq_length, pad_ratio):\n",
        "    \"\"\"\n",
        "    Generates a random attention mask for use with PyTorch's transformers where some positions are masked.\n",
        "\n",
        "    Args:\n",
        "    seq_length (int): The length of the sequence.\n",
        "    pad_ratio (float): The fraction of the sequence that is to be masked.\n",
        "\n",
        "    Returns:\n",
        "    torch.Tensor: An attention mask where 0 indicates \"not masked\" and -inf indicates \"masked\".\n",
        "    \"\"\"\n",
        "    line_mask = torch.rand(seq_length) >= pad_ratio\n",
        "    mask = line_mask.unsqueeze(0).repeat(seq_length, 1).float()  # Repeat the line mask across all rows\n",
        "    mask[mask == 0] = -float('inf')  # Set masked positions to -inf\n",
        "    mask[mask == 1] = 0  # Set unmasked positions to 0\n",
        "    return mask\n"
      ],
      "metadata": {
        "id": "08bO6-kCRg6v"
      },
      "execution_count": null,
      "outputs": []
    },
    {
      "cell_type": "code",
      "source": [
        "data_train = TData(X_train, y_train)\n",
        "loader_train = DataLoader(data_train, batch_size=32)\n",
        "data_test = TData(X_test, y_test)\n",
        "loader_test = DataLoader(data_test, batch_size=1)"
      ],
      "metadata": {
        "id": "RKqYz492Wcko"
      },
      "execution_count": null,
      "outputs": []
    },
    {
      "cell_type": "code",
      "source": [
        "# Train encoder\n",
        "\n",
        "model = MAE(hidden_size=256)\n",
        "criterion = nn.MSELoss()\n",
        "optimizer = optim.Adam(model.parameters(), lr=1e-4)\n",
        "epochs = 100\n",
        "\n",
        "model.to(0)\n",
        "count = 0\n",
        "for epoch in range(epochs):\n",
        "    for X, y in loader_train:\n",
        "        count += 1\n",
        "        optimizer.zero_grad()\n",
        "        mask = generate_mask(30, 0.8)\n",
        "        output = model(X.to(0), mask.to(0))\n",
        "        loss = criterion(output, X.to(0))\n",
        "        loss.backward()\n",
        "        optimizer.step()\n",
        "\n",
        "        if count % 100 == 0:\n",
        "            print(f'Loss: {loss.item()}')"
      ],
      "metadata": {
        "colab": {
          "base_uri": "https://localhost:8080/",
          "height": 616
        },
        "id": "celeehAHQfqn",
        "outputId": "344ee481-d19d-423f-f772-56dd61dae978"
      },
      "execution_count": null,
      "outputs": [
        {
          "output_type": "stream",
          "name": "stdout",
          "text": [
            "Loss: 0.0034736173693090677\n",
            "Loss: 0.0012609736295416951\n",
            "Loss: 0.0008332383586093783\n",
            "Loss: 0.0005630284431390464\n",
            "Loss: nan\n",
            "Loss: nan\n"
          ]
        },
        {
          "output_type": "error",
          "ename": "KeyboardInterrupt",
          "evalue": "",
          "traceback": [
            "\u001b[0;31m---------------------------------------------------------------------------\u001b[0m",
            "\u001b[0;31mKeyboardInterrupt\u001b[0m                         Traceback (most recent call last)",
            "\u001b[0;32m<ipython-input-390-4ab9f2c5e968>\u001b[0m in \u001b[0;36m<cell line: 10>\u001b[0;34m()\u001b[0m\n\u001b[1;32m     15\u001b[0m         \u001b[0moutput\u001b[0m \u001b[0;34m=\u001b[0m \u001b[0mmodel\u001b[0m\u001b[0;34m(\u001b[0m\u001b[0mX\u001b[0m\u001b[0;34m.\u001b[0m\u001b[0mto\u001b[0m\u001b[0;34m(\u001b[0m\u001b[0;36m0\u001b[0m\u001b[0;34m)\u001b[0m\u001b[0;34m,\u001b[0m \u001b[0mmask\u001b[0m\u001b[0;34m.\u001b[0m\u001b[0mto\u001b[0m\u001b[0;34m(\u001b[0m\u001b[0;36m0\u001b[0m\u001b[0;34m)\u001b[0m\u001b[0;34m)\u001b[0m\u001b[0;34m\u001b[0m\u001b[0;34m\u001b[0m\u001b[0m\n\u001b[1;32m     16\u001b[0m         \u001b[0mloss\u001b[0m \u001b[0;34m=\u001b[0m \u001b[0mcriterion\u001b[0m\u001b[0;34m(\u001b[0m\u001b[0moutput\u001b[0m\u001b[0;34m,\u001b[0m \u001b[0mX\u001b[0m\u001b[0;34m.\u001b[0m\u001b[0mto\u001b[0m\u001b[0;34m(\u001b[0m\u001b[0;36m0\u001b[0m\u001b[0;34m)\u001b[0m\u001b[0;34m)\u001b[0m\u001b[0;34m\u001b[0m\u001b[0;34m\u001b[0m\u001b[0m\n\u001b[0;32m---> 17\u001b[0;31m         \u001b[0mloss\u001b[0m\u001b[0;34m.\u001b[0m\u001b[0mbackward\u001b[0m\u001b[0;34m(\u001b[0m\u001b[0;34m)\u001b[0m\u001b[0;34m\u001b[0m\u001b[0;34m\u001b[0m\u001b[0m\n\u001b[0m\u001b[1;32m     18\u001b[0m         \u001b[0moptimizer\u001b[0m\u001b[0;34m.\u001b[0m\u001b[0mstep\u001b[0m\u001b[0;34m(\u001b[0m\u001b[0;34m)\u001b[0m\u001b[0;34m\u001b[0m\u001b[0;34m\u001b[0m\u001b[0m\n\u001b[1;32m     19\u001b[0m \u001b[0;34m\u001b[0m\u001b[0m\n",
            "\u001b[0;32m/usr/local/lib/python3.10/dist-packages/torch/_tensor.py\u001b[0m in \u001b[0;36mbackward\u001b[0;34m(self, gradient, retain_graph, create_graph, inputs)\u001b[0m\n\u001b[1;32m    520\u001b[0m                 \u001b[0minputs\u001b[0m\u001b[0;34m=\u001b[0m\u001b[0minputs\u001b[0m\u001b[0;34m,\u001b[0m\u001b[0;34m\u001b[0m\u001b[0;34m\u001b[0m\u001b[0m\n\u001b[1;32m    521\u001b[0m             )\n\u001b[0;32m--> 522\u001b[0;31m         torch.autograd.backward(\n\u001b[0m\u001b[1;32m    523\u001b[0m             \u001b[0mself\u001b[0m\u001b[0;34m,\u001b[0m \u001b[0mgradient\u001b[0m\u001b[0;34m,\u001b[0m \u001b[0mretain_graph\u001b[0m\u001b[0;34m,\u001b[0m \u001b[0mcreate_graph\u001b[0m\u001b[0;34m,\u001b[0m \u001b[0minputs\u001b[0m\u001b[0;34m=\u001b[0m\u001b[0minputs\u001b[0m\u001b[0;34m\u001b[0m\u001b[0;34m\u001b[0m\u001b[0m\n\u001b[1;32m    524\u001b[0m         )\n",
            "\u001b[0;32m/usr/local/lib/python3.10/dist-packages/torch/autograd/__init__.py\u001b[0m in \u001b[0;36mbackward\u001b[0;34m(tensors, grad_tensors, retain_graph, create_graph, grad_variables, inputs)\u001b[0m\n\u001b[1;32m    264\u001b[0m     \u001b[0;31m# some Python versions print out the first line of a multi-line function\u001b[0m\u001b[0;34m\u001b[0m\u001b[0;34m\u001b[0m\u001b[0m\n\u001b[1;32m    265\u001b[0m     \u001b[0;31m# calls in the traceback and some print out the last line\u001b[0m\u001b[0;34m\u001b[0m\u001b[0;34m\u001b[0m\u001b[0m\n\u001b[0;32m--> 266\u001b[0;31m     Variable._execution_engine.run_backward(  # Calls into the C++ engine to run the backward pass\n\u001b[0m\u001b[1;32m    267\u001b[0m         \u001b[0mtensors\u001b[0m\u001b[0;34m,\u001b[0m\u001b[0;34m\u001b[0m\u001b[0;34m\u001b[0m\u001b[0m\n\u001b[1;32m    268\u001b[0m         \u001b[0mgrad_tensors_\u001b[0m\u001b[0;34m,\u001b[0m\u001b[0;34m\u001b[0m\u001b[0;34m\u001b[0m\u001b[0m\n",
            "\u001b[0;31mKeyboardInterrupt\u001b[0m: "
          ]
        },
        {
          "name": "stdout",
          "output_type": "stream",
          "text": [
            "> \u001b[0;32m/usr/local/lib/python3.10/dist-packages/torch/autograd/__init__.py\u001b[0m(266)\u001b[0;36mbackward\u001b[0;34m()\u001b[0m\n",
            "\u001b[0;32m    264 \u001b[0;31m    \u001b[0;31m# some Python versions print out the first line of a multi-line function\u001b[0m\u001b[0;34m\u001b[0m\u001b[0;34m\u001b[0m\u001b[0m\n",
            "\u001b[0m\u001b[0;32m    265 \u001b[0;31m    \u001b[0;31m# calls in the traceback and some print out the last line\u001b[0m\u001b[0;34m\u001b[0m\u001b[0;34m\u001b[0m\u001b[0m\n",
            "\u001b[0m\u001b[0;32m--> 266 \u001b[0;31m    Variable._execution_engine.run_backward(  # Calls into the C++ engine to run the backward pass\n",
            "\u001b[0m\u001b[0;32m    267 \u001b[0;31m        \u001b[0mtensors\u001b[0m\u001b[0;34m,\u001b[0m\u001b[0;34m\u001b[0m\u001b[0;34m\u001b[0m\u001b[0m\n",
            "\u001b[0m\u001b[0;32m    268 \u001b[0;31m        \u001b[0mgrad_tensors_\u001b[0m\u001b[0;34m,\u001b[0m\u001b[0;34m\u001b[0m\u001b[0;34m\u001b[0m\u001b[0m\n",
            "\u001b[0m\n",
            "ipdb> exit\n"
          ]
        }
      ]
    },
    {
      "cell_type": "code",
      "source": [
        "# Train classifier\n",
        "\n",
        "model_classifier = MAE_classifier(model).to(0)\n",
        "criterion = nn.CrossEntropyLoss()\n",
        "optimizer = optim.Adam(model.parameters(), lr=1e-4)\n",
        "epochs = 100\n",
        "\n",
        "model.to(0)\n",
        "count = 0\n",
        "for epoch in range(epochs):\n",
        "    for X, y in loader_train:\n",
        "        count += 1\n",
        "        optimizer.zero_grad()\n",
        "        output = model_classifier(X.to(0))\n",
        "        loss = criterion(output, y.to(0))\n",
        "        loss.backward()\n",
        "        optimizer.step()\n",
        "\n",
        "        if count % 100 == 0:\n",
        "            print(f'Loss: {loss.item()}')"
      ],
      "metadata": {
        "id": "DFU-m1vYTst4"
      },
      "execution_count": null,
      "outputs": []
    },
    {
      "cell_type": "code",
      "source": [
        "%pdb"
      ],
      "metadata": {
        "colab": {
          "base_uri": "https://localhost:8080/"
        },
        "id": "TGvHFhHKRrMp",
        "outputId": "63d0973b-fe6f-4551-a491-58921847c4a0"
      },
      "execution_count": null,
      "outputs": [
        {
          "output_type": "stream",
          "name": "stdout",
          "text": [
            "Automatic pdb calling has been turned ON\n"
          ]
        }
      ]
    },
    {
      "cell_type": "markdown",
      "source": [
        "### Model 4"
      ],
      "metadata": {
        "id": "J-WjIc4_YMj4"
      }
    },
    {
      "cell_type": "code",
      "source": [
        "raw = np.load('raw_swa.npz')\n",
        "y = raw['label']\n",
        "X = raw['raw_recording']\n",
        "X = X[1]\n",
        "\n",
        "num_sequences = len(X) // 2000\n",
        "X = X[:num_sequences * 2000].reshape(num_sequences, 2000)\n",
        "y = y[:num_sequences]"
      ],
      "metadata": {
        "id": "ahrtNWV9YXB9"
      },
      "execution_count": null,
      "outputs": []
    },
    {
      "cell_type": "code",
      "source": [
        "X_train, X_test, y_train, y_test = train_test_split(X, y, test_size=0.2, random_state=42, shuffle=True)\n",
        "\n",
        "X_train = normalize(X_train)\n",
        "X_test = normalize(X_test)"
      ],
      "metadata": {
        "id": "G-ebPk0NYaNd"
      },
      "execution_count": null,
      "outputs": []
    },
    {
      "cell_type": "code",
      "source": [
        "class ConvNetData(Dataset):\n",
        "    def __init__(self, X, y):\n",
        "        self.recording = torch.tensor(X).float()\n",
        "        self.recording = self.recording.unsqueeze(1)\n",
        "        self.labels = torch.tensor(y).long()\n",
        "\n",
        "    def __len__(self):\n",
        "        return self.recording.shape[0]\n",
        "\n",
        "    def __getitem__(self, idx):\n",
        "        return self.recording[idx], self.labels[idx]\n",
        "\n",
        "def to_tensor(batch):\n",
        "    X = torch.stack([batch[i][0] for i in range(len(batch))])\n",
        "    y = torch.stack([batch[i][1] for i in range(len(batch))])\n",
        "\n",
        "    return X, y"
      ],
      "metadata": {
        "id": "kseOF5VHZuak"
      },
      "execution_count": null,
      "outputs": []
    },
    {
      "cell_type": "code",
      "source": [
        "class ConvAutoencoder(nn.Module):\n",
        "    def __init__(self):\n",
        "        super(ConvAutoencoder, self).__init__()\n",
        "        # Encoder layers\n",
        "        self.encoder = nn.Sequential(\n",
        "            nn.Conv1d(1, 16, kernel_size=3, stride=2, padding=1),  # output: 16 x 1000\n",
        "            nn.LeakyReLU(),\n",
        "            nn.Conv1d(16, 32, kernel_size=3, stride=2, padding=1),  # output: 32 x 500\n",
        "            nn.LeakyReLU(),\n",
        "            nn.Conv1d(32, 64, kernel_size=3, stride=2, padding=1),  # output: 64 x 250\n",
        "            nn.LeakyReLU(),\n",
        "            nn.Conv1d(64, 128, kernel_size=3, stride=2, padding=1),  # output: 128 x 125\n",
        "            nn.LeakyReLU(),\n",
        "        )\n",
        "        self.encoded_space_dim = 128 * 125\n",
        "\n",
        "        # Decoder layers\n",
        "        self.decoder = nn.Sequential(\n",
        "            nn.ConvTranspose1d(\n",
        "                128, 64, kernel_size=3, stride=2, padding=1, output_padding=1\n",
        "            ),\n",
        "            nn.LeakyReLU(),\n",
        "            nn.ConvTranspose1d(\n",
        "                64, 32, kernel_size=3, stride=2, padding=1, output_padding=1\n",
        "            ),\n",
        "            nn.LeakyReLU(),\n",
        "            nn.ConvTranspose1d(\n",
        "                32, 16, kernel_size=3, stride=2, padding=1, output_padding=1\n",
        "            ),\n",
        "            nn.LeakyReLU(),\n",
        "            nn.ConvTranspose1d(\n",
        "                16, 1, kernel_size=3, stride=2, padding=1, output_padding=1\n",
        "            ),\n",
        "            # No activation here, as we're outputting raw signal values\n",
        "        )\n",
        "\n",
        "    def forward(self, x):\n",
        "        encoded = self.encoder(x)\n",
        "        decoded = self.decoder(encoded)\n",
        "        return decoded.squeeze(1)  # Remove channel dimension for output\n",
        "\n",
        "\n",
        "class ClassDecoder(nn.Module):\n",
        "    def __init__(self, encoder) -> None:\n",
        "        super().__init__()\n",
        "        self.encoder = encoder\n",
        "        self.net = nn.Sequential(\n",
        "            nn.Flatten(start_dim=1),\n",
        "            nn.Linear(self.encoder.encoded_space_dim, 128),\n",
        "            nn.LeakyReLU(),\n",
        "            nn.Linear(128, 32),\n",
        "            nn.LeakyReLU(),\n",
        "            nn.Linear(32, 3),\n",
        "        )\n",
        "\n",
        "    def forward(self, x):\n",
        "        encoded = self.encoder.encoder(x)\n",
        "        return self.net(encoded)"
      ],
      "metadata": {
        "id": "esYIzA4JYNbJ"
      },
      "execution_count": null,
      "outputs": []
    },
    {
      "cell_type": "code",
      "source": [
        "data_train = ConvNetData(X_train, y_train)\n",
        "data_test = ConvNetData(X_test, y_test)\n",
        "loader_train = DataLoader(data_train, batch_size=64, collate_fn=to_tensor)\n",
        "loader_test = DataLoader(data_test, batch_size=1, collate_fn=to_tensor)"
      ],
      "metadata": {
        "id": "LDxTPVFOYs67"
      },
      "execution_count": null,
      "outputs": []
    },
    {
      "cell_type": "code",
      "source": [
        "# Training\n",
        "\n",
        "model = ConvAutoencoder()\n",
        "criterion = nn.MSELoss()\n",
        "optimizer = optim.Adam(model.parameters(), lr=1e-5)\n",
        "epochs = 100\n",
        "\n",
        "model.to(0)\n",
        "count = 0\n",
        "for epoch in range(epochs):\n",
        "    for X, y in loader_train:\n",
        "        count += 1\n",
        "        optimizer.zero_grad()\n",
        "        output = model(X.to(0))\n",
        "        loss = criterion(output, X.to(0))\n",
        "        loss.backward()\n",
        "        optimizer.step()\n",
        "\n",
        "        if count % 100 == 0:\n",
        "            print(f'Loss: {loss.item()}')"
      ],
      "metadata": {
        "colab": {
          "base_uri": "https://localhost:8080/"
        },
        "id": "tVdfBbjWYb0t",
        "outputId": "886ae76b-720c-4c1f-8aa1-a71fc0af6c49"
      },
      "execution_count": null,
      "outputs": [
        {
          "output_type": "stream",
          "name": "stderr",
          "text": [
            "/usr/local/lib/python3.10/dist-packages/torch/nn/modules/loss.py:535: UserWarning: Using a target size (torch.Size([64, 1, 2000])) that is different to the input size (torch.Size([64, 2000])). This will likely lead to incorrect results due to broadcasting. Please ensure they have the same size.\n",
            "  return F.mse_loss(input, target, reduction=self.reduction)\n"
          ]
        },
        {
          "output_type": "stream",
          "name": "stdout",
          "text": [
            "Loss: 0.20412683486938477\n",
            "Loss: 0.18424446880817413\n",
            "Loss: 0.16183722019195557\n",
            "Loss: 0.13171625137329102\n",
            "Loss: 0.09269954264163971\n",
            "Loss: 0.06113887205719948\n",
            "Loss: 0.03347236290574074\n",
            "Loss: 0.013213444501161575\n",
            "Loss: 0.006288069300353527\n",
            "Loss: 0.003666148753836751\n",
            "Loss: 0.002358603524044156\n",
            "Loss: 0.00167232402600348\n",
            "Loss: 0.0013081011129543185\n",
            "Loss: 0.001083700335584581\n",
            "Loss: 0.0009232605225406587\n",
            "Loss: 0.0008005838026292622\n",
            "Loss: 0.0007408583769574761\n",
            "Loss: 0.0006605242961086333\n",
            "Loss: 0.0005919139948673546\n",
            "Loss: 0.0005712519050575793\n",
            "Loss: 0.0005408964352682233\n",
            "Loss: 0.000555620645172894\n",
            "Loss: 0.0004972817841917276\n",
            "Loss: 0.0005064144497737288\n",
            "Loss: 0.00046694802585989237\n",
            "Loss: 0.00048784303362481296\n",
            "Loss: 0.0004788295191247016\n",
            "Loss: 0.00047718299902044237\n",
            "Loss: 0.00045435692300088704\n",
            "Loss: 0.0004594447964336723\n",
            "Loss: 0.00046691103489138186\n",
            "Loss: 0.00047527565038762987\n",
            "Loss: 0.00046726124128326774\n",
            "Loss: 0.0004655416705645621\n",
            "Loss: 0.00045210577081888914\n",
            "Loss: 0.00048259057803079486\n",
            "Loss: 0.00044862195500172675\n",
            "Loss: 0.0004465289821382612\n",
            "Loss: 0.0004280736611690372\n",
            "Loss: 0.00043228318099863827\n",
            "Loss: 0.0004386822984088212\n",
            "Loss: 0.00043389288475736976\n",
            "Loss: 0.00042032080818898976\n",
            "Loss: 0.0004442846402525902\n",
            "Loss: 0.0004371887189336121\n",
            "Loss: 0.000407760264351964\n",
            "Loss: 0.0004119268851354718\n",
            "Loss: 0.0003972761915065348\n",
            "Loss: 0.0004202187992632389\n",
            "Loss: 0.00037112899008207023\n",
            "Loss: 0.0003825332969427109\n",
            "Loss: 0.00034390733344480395\n",
            "Loss: 0.000366290652891621\n",
            "Loss: 0.0003579519398044795\n",
            "Loss: 0.00035111673059873283\n",
            "Loss: 0.0003272544709034264\n",
            "Loss: 0.00033192988485097885\n",
            "Loss: 0.0003386191965546459\n",
            "Loss: 0.00034253677586093545\n",
            "Loss: 0.0003300477983430028\n",
            "Loss: 0.0003332503547426313\n",
            "Loss: 0.00031611902522854507\n",
            "Loss: 0.00034483635681681335\n",
            "Loss: 0.0003103138296864927\n",
            "Loss: 0.0003120418405160308\n",
            "Loss: 0.00029081787215545774\n",
            "Loss: 0.0002949788176920265\n",
            "Loss: 0.0003013819514308125\n",
            "Loss: 0.0002960822603199631\n",
            "Loss: 0.0002858795633073896\n",
            "Loss: 0.00030809230520389974\n",
            "Loss: 0.00030379262170754373\n",
            "Loss: 0.0002731898275669664\n",
            "Loss: 0.00028352809022180736\n",
            "Loss: 0.0002709875989239663\n",
            "Loss: 0.00029052028548903763\n",
            "Loss: 0.0002474490611348301\n",
            "Loss: 0.0002584300236776471\n",
            "Loss: 0.00022320655989460647\n",
            "Loss: 0.0002495013759471476\n",
            "Loss: 0.0002484171709511429\n",
            "Loss: 0.00024074438260868192\n",
            "Loss: 0.00022254741634242237\n",
            "Loss: 0.0002344609674764797\n",
            "Loss: 0.00024808512534946203\n",
            "Loss: 0.0002514127118047327\n",
            "Loss: 0.00024144182680174708\n",
            "Loss: 0.0002567994233686477\n",
            "Loss: 0.00024128730001393706\n",
            "Loss: 0.0002715701120905578\n",
            "Loss: 0.00023921343381516635\n",
            "Loss: 0.0002472434425726533\n",
            "Loss: 0.00022691107005812228\n",
            "Loss: 0.00023402116494253278\n",
            "Loss: 0.00024134905834216624\n",
            "Loss: 0.0002416477509541437\n",
            "Loss: 0.0002359751088079065\n",
            "Loss: 0.00025709104374982417\n",
            "Loss: 0.0002565329195931554\n",
            "Loss: 0.00022824840561952442\n",
            "Loss: 0.0002454798959661275\n",
            "Loss: 0.00023538438836112618\n",
            "Loss: 0.00025420976453460753\n",
            "Loss: 0.00021756351634394377\n",
            "Loss: 0.00022615474881604314\n",
            "Loss: 0.00019508997502271086\n",
            "Loss: 0.0002242625196231529\n",
            "Loss: 0.0002269397518830374\n",
            "Loss: 0.0002186817000620067\n",
            "Loss: 0.00020368024706840515\n",
            "Loss: 0.0002183357864851132\n",
            "Loss: 0.00023528008023276925\n",
            "Loss: 0.00023744801001157612\n",
            "Loss: 0.00022911853739060462\n",
            "Loss: 0.0002474623324815184\n",
            "Loss: 0.00023336520825978369\n",
            "Loss: 0.0002626352070365101\n",
            "Loss: 0.00023179019626695663\n",
            "Loss: 0.00024158954329323024\n",
            "Loss: 0.00022124889073893428\n",
            "Loss: 0.0002288975811097771\n",
            "Loss: 0.00023608813353348523\n",
            "Loss: 0.0002381090453127399\n",
            "Loss: 0.0002333264274057001\n",
            "Loss: 0.00025379989529028535\n",
            "Loss: 0.00025389203801751137\n",
            "Loss: 0.0002258658641949296\n",
            "Loss: 0.0002440702373860404\n",
            "Loss: 0.00023399954079650342\n",
            "Loss: 0.00025242340052500367\n",
            "Loss: 0.000216656771954149\n",
            "Loss: 0.00022448375239036977\n",
            "Loss: 0.000194192209164612\n",
            "Loss: 0.00022332560911308974\n",
            "Loss: 0.00022609246661886573\n",
            "Loss: 0.00021778602967970073\n",
            "Loss: 0.0002029912284342572\n",
            "Loss: 0.0002176427806261927\n",
            "Loss: 0.00023490117746405303\n",
            "Loss: 0.00023708902881480753\n",
            "Loss: 0.0002286386297782883\n",
            "Loss: 0.00024708284763619304\n",
            "Loss: 0.0002328019036212936\n",
            "Loss: 0.00026211931253783405\n",
            "Loss: 0.00023143594444263726\n",
            "Loss: 0.00024114386178553104\n",
            "Loss: 0.00022088245896156877\n",
            "Loss: 0.0002285459777340293\n",
            "Loss: 0.00023572210920974612\n",
            "Loss: 0.00023784831864759326\n",
            "Loss: 0.00023304963542614132\n",
            "Loss: 0.0002534865925554186\n",
            "Loss: 0.0002535687235649675\n",
            "Loss: 0.00022559928765986115\n",
            "Loss: 0.00024380114336963743\n",
            "Loss: 0.0002337921323487535\n",
            "Loss: 0.0002522063732612878\n",
            "Loss: 0.00021649643895216286\n",
            "Loss: 0.00022423667542170733\n",
            "Loss: 0.0001940197398653254\n",
            "Loss: 0.00022315242676995695\n",
            "Loss: 0.00022594601614400744\n",
            "Loss: 0.0002176086709368974\n",
            "Loss: 0.0002028305025305599\n",
            "Loss: 0.0002175034023821354\n",
            "Loss: 0.00023478605726268142\n",
            "Loss: 0.00023695651907473803\n",
            "Loss: 0.00022849040396977216\n",
            "Loss: 0.00024697917979210615\n",
            "Loss: 0.00023266280186362565\n",
            "Loss: 0.0002619957667775452\n",
            "Loss: 0.00023132291971705854\n",
            "Loss: 0.0002410264132777229\n",
            "Loss: 0.00022077400353737175\n",
            "Loss: 0.000228436867473647\n",
            "Loss: 0.0002356178010813892\n",
            "Loss: 0.00023775888257659972\n",
            "Loss: 0.00023296014114748687\n",
            "Loss: 0.00025339031708426774\n",
            "Loss: 0.00025347076007165015\n",
            "Loss: 0.00022551578877028078\n",
            "Loss: 0.00024373154155910015\n",
            "Loss: 0.0002337344194529578\n",
            "Loss: 0.0002521316346246749\n",
            "Loss: 0.00021644857770297676\n",
            "Loss: 0.0002241648908238858\n",
            "Loss: 0.0001939663925440982\n",
            "Loss: 0.00022310837812256068\n",
            "Loss: 0.00022590439766645432\n",
            "Loss: 0.00021755226771347225\n",
            "Loss: 0.00020278344163671136\n",
            "Loss: 0.0002174610272049904\n",
            "Loss: 0.00023475383932236582\n",
            "Loss: 0.00023691199021413922\n",
            "Loss: 0.00022844303748570383\n",
            "Loss: 0.00024695834144949913\n",
            "Loss: 0.00023262985632754862\n",
            "Loss: 0.0002619656443130225\n",
            "Loss: 0.000231289304792881\n",
            "Loss: 0.00024099535949062556\n",
            "Loss: 0.00022074129083193839\n",
            "Loss: 0.00022840437304694206\n",
            "Loss: 0.0002355853794142604\n",
            "Loss: 0.000237731946981512\n",
            "Loss: 0.00023293380218092352\n",
            "Loss: 0.0002533606602810323\n",
            "Loss: 0.00025344346067868173\n",
            "Loss: 0.00022549126879312098\n",
            "Loss: 0.00024371457402594388\n",
            "Loss: 0.00023371867428068072\n",
            "Loss: 0.0002521076239645481\n",
            "Loss: 0.0002164337201975286\n",
            "Loss: 0.00022414312115870416\n",
            "Loss: 0.00019394948321860284\n",
            "Loss: 0.00022309675114229321\n",
            "Loss: 0.00022589175205212086\n",
            "Loss: 0.0002175325498683378\n",
            "Loss: 0.00020276615396142006\n",
            "Loss: 0.00021744583500549197\n",
            "Loss: 0.00023474406043533236\n",
            "Loss: 0.00023689605586696416\n",
            "Loss: 0.00022842700127512217\n",
            "Loss: 0.0002469531900715083\n",
            "Loss: 0.0002326200483366847\n",
            "Loss: 0.0002619577862787992\n",
            "Loss: 0.00023127776512410492\n",
            "Loss: 0.00024098616268020123\n",
            "Loss: 0.00022072922729421407\n",
            "Loss: 0.00022839268785901368\n",
            "Loss: 0.00023557289387099445\n",
            "Loss: 0.0002377225027885288\n",
            "Loss: 0.00023292482364922762\n",
            "Loss: 0.0002533499791752547\n",
            "Loss: 0.0002534350205678493\n",
            "Loss: 0.00022548274137079716\n",
            "Loss: 0.00024371010658796877\n",
            "Loss: 0.00023371346469502896\n",
            "Loss: 0.0002520977577660233\n",
            "Loss: 0.0002164281322620809\n",
            "Loss: 0.0002241355541627854\n",
            "Loss: 0.0001939423382282257\n",
            "Loss: 0.00022309321502689272\n",
            "Loss: 0.0002258868480566889\n",
            "Loss: 0.00021752472093794495\n",
            "Loss: 0.000202759460080415\n",
            "Loss: 0.0002174391847802326\n",
            "Loss: 0.0002347396657569334\n",
            "Loss: 0.000236889100051485\n",
            "Loss: 0.0002284206566400826\n",
            "Loss: 0.0002469522587489337\n",
            "Loss: 0.00023261729802470654\n",
            "Loss: 0.0002619560982566327\n",
            "Loss: 0.0002312730357516557\n",
            "Loss: 0.00024098313588183373\n",
            "Loss: 0.00022072400315664709\n",
            "Loss: 0.0002283877256559208\n",
            "Loss: 0.0002355674805585295\n",
            "Loss: 0.00023771838459651917\n",
            "Loss: 0.00023292160767596215\n",
            "Loss: 0.00025334564270451665\n",
            "Loss: 0.00025343228480778635\n",
            "Loss: 0.00022547929256688803\n",
            "Loss: 0.00024370926257688552\n",
            "Loss: 0.0002337112819077447\n",
            "Loss: 0.00025209292653016746\n",
            "Loss: 0.00021642548381350935\n",
            "Loss: 0.00022413254191633314\n",
            "Loss: 0.00019393886032048613\n",
            "Loss: 0.00022309189080260694\n",
            "Loss: 0.00022588446154259145\n"
          ]
        }
      ]
    },
    {
      "cell_type": "code",
      "source": [
        "# Training\n",
        "\n",
        "modelc = ClassDecoder(model)\n",
        "criterion = nn.CrossEntropyLoss()\n",
        "optimizer = optim.Adam(modelc.parameters(), lr=1e-4)\n",
        "epochs = 100\n",
        "\n",
        "modelc.encoder.requires_grad_(False)\n",
        "\n",
        "modelc.to(0)\n",
        "count = 0\n",
        "for epoch in range(epochs):\n",
        "    for X, y in loader_train:\n",
        "        count += 1\n",
        "        optimizer.zero_grad()\n",
        "        output = modelc(X.to(0))\n",
        "        loss = criterion(output, y.to(0))\n",
        "        loss.backward()\n",
        "        optimizer.step()\n",
        "\n",
        "        if count % 100 == 0:\n",
        "            print(f'Loss: {loss.item()}')"
      ],
      "metadata": {
        "colab": {
          "base_uri": "https://localhost:8080/"
        },
        "id": "Tfl2jLnBaUy2",
        "outputId": "19828f46-da50-4003-e1d0-f30db1933ac0"
      },
      "execution_count": null,
      "outputs": [
        {
          "output_type": "stream",
          "name": "stdout",
          "text": [
            "Loss: 0.9021228551864624\n",
            "Loss: 0.7487620711326599\n",
            "Loss: 0.8229913711547852\n",
            "Loss: 0.8992913961410522\n",
            "Loss: 0.8094643950462341\n",
            "Loss: 0.8107115030288696\n",
            "Loss: 0.8372943997383118\n",
            "Loss: 0.7856268286705017\n",
            "Loss: 0.7699785828590393\n",
            "Loss: 0.8195868134498596\n",
            "Loss: 0.7755548357963562\n",
            "Loss: 0.7342227697372437\n",
            "Loss: 0.8354368209838867\n",
            "Loss: 0.8494749665260315\n",
            "Loss: 0.9187442064285278\n",
            "Loss: 0.87070232629776\n",
            "Loss: 0.8223105669021606\n",
            "Loss: 0.8439832925796509\n",
            "Loss: 0.8063613772392273\n",
            "Loss: 0.9404482245445251\n",
            "Loss: 0.7867977023124695\n",
            "Loss: 0.8144316673278809\n",
            "Loss: 0.9208201169967651\n",
            "Loss: 0.8420205116271973\n",
            "Loss: 0.8722758293151855\n",
            "Loss: 0.7775053977966309\n",
            "Loss: 0.880866527557373\n",
            "Loss: 0.8970090746879578\n",
            "Loss: 0.7451882362365723\n",
            "Loss: 0.8210863471031189\n",
            "Loss: 0.903634786605835\n",
            "Loss: 0.8168431520462036\n",
            "Loss: 0.8054835200309753\n",
            "Loss: 0.8370175361633301\n",
            "Loss: 0.7972474098205566\n",
            "Loss: 0.763702929019928\n",
            "Loss: 0.8156575560569763\n",
            "Loss: 0.7787026166915894\n",
            "Loss: 0.7358589768409729\n",
            "Loss: 0.8403459787368774\n",
            "Loss: 0.8459782600402832\n",
            "Loss: 0.9178459048271179\n",
            "Loss: 0.871606707572937\n",
            "Loss: 0.822304368019104\n",
            "Loss: 0.8436333537101746\n",
            "Loss: 0.8074149489402771\n",
            "Loss: 0.931502640247345\n",
            "Loss: 0.7741560935974121\n",
            "Loss: 0.8134400248527527\n",
            "Loss: 0.9207394123077393\n",
            "Loss: 0.8420757055282593\n",
            "Loss: 0.8718476891517639\n",
            "Loss: 0.7744077444076538\n",
            "Loss: 0.8810012936592102\n",
            "Loss: 0.8971391916275024\n",
            "Loss: 0.7498195767402649\n",
            "Loss: 0.8212853074073792\n",
            "Loss: 0.9046091437339783\n",
            "Loss: 0.8173108100891113\n",
            "Loss: 0.8061215877532959\n",
            "Loss: 0.8352469205856323\n",
            "Loss: 0.7963412404060364\n",
            "Loss: 0.7621264457702637\n",
            "Loss: 0.816347062587738\n",
            "Loss: 0.7759279012680054\n",
            "Loss: 0.7393644452095032\n",
            "Loss: 0.8379812240600586\n",
            "Loss: 0.8449093699455261\n",
            "Loss: 0.9175496101379395\n",
            "Loss: 0.8724815845489502\n",
            "Loss: 0.8222954869270325\n",
            "Loss: 0.8424901366233826\n",
            "Loss: 0.8124604225158691\n",
            "Loss: 0.9283536076545715\n",
            "Loss: 0.772612452507019\n",
            "Loss: 0.8133378028869629\n",
            "Loss: 0.9228200316429138\n",
            "Loss: 0.8419840335845947\n",
            "Loss: 0.8718177080154419\n",
            "Loss: 0.774776041507721\n",
            "Loss: 0.8819563388824463\n",
            "Loss: 0.8974192142486572\n",
            "Loss: 0.7524823546409607\n",
            "Loss: 0.8210968971252441\n",
            "Loss: 0.9047020673751831\n",
            "Loss: 0.8184881210327148\n",
            "Loss: 0.8064598441123962\n",
            "Loss: 0.8349178433418274\n",
            "Loss: 0.7958033680915833\n",
            "Loss: 0.7618169784545898\n",
            "Loss: 0.8155869841575623\n",
            "Loss: 0.7758307456970215\n",
            "Loss: 0.7405782341957092\n",
            "Loss: 0.837593674659729\n",
            "Loss: 0.8446534276008606\n",
            "Loss: 0.9174489378929138\n",
            "Loss: 0.8725043535232544\n",
            "Loss: 0.822326123714447\n",
            "Loss: 0.8422038555145264\n",
            "Loss: 0.8131237030029297\n",
            "Loss: 0.9274330139160156\n",
            "Loss: 0.7726357579231262\n",
            "Loss: 0.8133452534675598\n",
            "Loss: 0.9240968227386475\n",
            "Loss: 0.8421160578727722\n",
            "Loss: 0.8718505501747131\n",
            "Loss: 0.7750317454338074\n",
            "Loss: 0.8821791410446167\n",
            "Loss: 0.8976060152053833\n",
            "Loss: 0.7534152269363403\n",
            "Loss: 0.8210887312889099\n",
            "Loss: 0.9041866064071655\n",
            "Loss: 0.8189029097557068\n",
            "Loss: 0.8065366148948669\n",
            "Loss: 0.8354675769805908\n",
            "Loss: 0.7961016893386841\n",
            "Loss: 0.7615214586257935\n",
            "Loss: 0.8146578669548035\n",
            "Loss: 0.7758084535598755\n",
            "Loss: 0.742177426815033\n",
            "Loss: 0.8371530771255493\n",
            "Loss: 0.8444969058036804\n",
            "Loss: 0.9185805320739746\n",
            "Loss: 0.8725407719612122\n",
            "Loss: 0.8222867250442505\n",
            "Loss: 0.8420420289039612\n",
            "Loss: 0.8127237558364868\n",
            "Loss: 0.9302544593811035\n",
            "Loss: 0.772014319896698\n",
            "Loss: 0.8135989308357239\n",
            "Loss: 0.9248823523521423\n",
            "Loss: 0.842134416103363\n",
            "Loss: 0.871857762336731\n",
            "Loss: 0.7753846049308777\n",
            "Loss: 0.8822615742683411\n",
            "Loss: 0.8977844715118408\n",
            "Loss: 0.7540924549102783\n",
            "Loss: 0.8210947513580322\n",
            "Loss: 0.9037768244743347\n",
            "Loss: 0.8190946578979492\n",
            "Loss: 0.8064591288566589\n",
            "Loss: 0.8351294994354248\n",
            "Loss: 0.7951636910438538\n",
            "Loss: 0.7611832618713379\n",
            "Loss: 0.8144403696060181\n",
            "Loss: 0.7756102085113525\n",
            "Loss: 0.7431879639625549\n",
            "Loss: 0.8369766473770142\n",
            "Loss: 0.8447893857955933\n",
            "Loss: 0.9181780815124512\n",
            "Loss: 0.8725061416625977\n",
            "Loss: 0.8222824335098267\n",
            "Loss: 0.8421384692192078\n",
            "Loss: 0.8136715888977051\n",
            "Loss: 0.927095890045166\n",
            "Loss: 0.7727078199386597\n",
            "Loss: 0.8133710622787476\n",
            "Loss: 0.9256806969642639\n",
            "Loss: 0.8421379923820496\n",
            "Loss: 0.8718965649604797\n",
            "Loss: 0.775728166103363\n",
            "Loss: 0.8823332190513611\n",
            "Loss: 0.8979201912879944\n",
            "Loss: 0.7543494701385498\n",
            "Loss: 0.8210752606391907\n",
            "Loss: 0.9033154249191284\n",
            "Loss: 0.8192340731620789\n",
            "Loss: 0.8064414262771606\n",
            "Loss: 0.835419774055481\n",
            "Loss: 0.7962589859962463\n",
            "Loss: 0.7609953284263611\n",
            "Loss: 0.8140366673469543\n",
            "Loss: 0.7757924199104309\n",
            "Loss: 0.743736982345581\n",
            "Loss: 0.8368368744850159\n",
            "Loss: 0.8443631529808044\n",
            "Loss: 0.9186511039733887\n",
            "Loss: 0.8724758625030518\n",
            "Loss: 0.8222672939300537\n",
            "Loss: 0.841910719871521\n",
            "Loss: 0.8139099478721619\n",
            "Loss: 0.9268413782119751\n",
            "Loss: 0.7731999754905701\n",
            "Loss: 0.8133681416511536\n",
            "Loss: 0.9238169193267822\n",
            "Loss: 0.8418049812316895\n",
            "Loss: 0.8719154596328735\n",
            "Loss: 0.7758651375770569\n",
            "Loss: 0.8823484778404236\n",
            "Loss: 0.8979830741882324\n",
            "Loss: 0.7544797658920288\n",
            "Loss: 0.8210685849189758\n",
            "Loss: 0.9032723903656006\n",
            "Loss: 0.819250762462616\n",
            "Loss: 0.8064338564872742\n",
            "Loss: 0.8347517848014832\n",
            "Loss: 0.7949642539024353\n",
            "Loss: 0.7610024809837341\n",
            "Loss: 0.8139610290527344\n",
            "Loss: 0.7757760882377625\n",
            "Loss: 0.7437330484390259\n",
            "Loss: 0.8368443846702576\n",
            "Loss: 0.8443742990493774\n",
            "Loss: 0.9186758995056152\n",
            "Loss: 0.8724485039710999\n",
            "Loss: 0.8222498893737793\n",
            "Loss: 0.8418179750442505\n",
            "Loss: 0.8139141201972961\n",
            "Loss: 0.9268122911453247\n",
            "Loss: 0.772706151008606\n",
            "Loss: 0.8133153319358826\n",
            "Loss: 0.9252856373786926\n",
            "Loss: 0.8421359658241272\n",
            "Loss: 0.8719290494918823\n",
            "Loss: 0.7759203314781189\n",
            "Loss: 0.8823564052581787\n",
            "Loss: 0.8980219960212708\n",
            "Loss: 0.7545481324195862\n",
            "Loss: 0.8210610747337341\n",
            "Loss: 0.9022713899612427\n",
            "Loss: 0.8179464340209961\n",
            "Loss: 0.8052384853363037\n",
            "Loss: 0.8347406983375549\n",
            "Loss: 0.7949618697166443\n",
            "Loss: 0.760869026184082\n",
            "Loss: 0.8138105273246765\n",
            "Loss: 0.7757704854011536\n",
            "Loss: 0.744140625\n",
            "Loss: 0.8367336988449097\n",
            "Loss: 0.8443243503570557\n",
            "Loss: 0.9187503457069397\n",
            "Loss: 0.8724281191825867\n",
            "Loss: 0.8222318887710571\n",
            "Loss: 0.8418546915054321\n",
            "Loss: 0.8140215277671814\n",
            "Loss: 0.9267329573631287\n",
            "Loss: 0.7727062702178955\n",
            "Loss: 0.8133392333984375\n",
            "Loss: 0.9251757264137268\n",
            "Loss: 0.8419802188873291\n",
            "Loss: 0.8719353079795837\n",
            "Loss: 0.7759789824485779\n",
            "Loss: 0.8823556900024414\n",
            "Loss: 0.8980473875999451\n",
            "Loss: 0.7544530034065247\n",
            "Loss: 0.8210612535476685\n",
            "Loss: 0.9029089212417603\n",
            "Loss: 0.8192980885505676\n",
            "Loss: 0.8063924312591553\n",
            "Loss: 0.8347331881523132\n",
            "Loss: 0.794890820980072\n",
            "Loss: 0.7612234950065613\n",
            "Loss: 0.8142607808113098\n",
            "Loss: 0.7757381200790405\n",
            "Loss: 0.7444252967834473\n",
            "Loss: 0.8366997241973877\n",
            "Loss: 0.8443240523338318\n",
            "Loss: 0.9188312888145447\n",
            "Loss: 0.8724046945571899\n",
            "Loss: 0.8219404816627502\n",
            "Loss: 0.8422842621803284\n",
            "Loss: 0.8131621479988098\n",
            "Loss: 0.926676869392395\n",
            "Loss: 0.7727044820785522\n",
            "Loss: 0.8133375644683838\n",
            "Loss: 0.9253493547439575\n",
            "Loss: 0.8421380519866943\n",
            "Loss: 0.8719471096992493\n",
            "Loss: 0.7759333252906799\n",
            "Loss: 0.8823473453521729\n"
          ]
        }
      ]
    },
    {
      "cell_type": "code",
      "source": [
        "# Test\n",
        "\n",
        "loader_test = DataLoader(data_test, batch_size=1, collate_fn=to_tensor)\n",
        "modelc.eval()\n",
        "\n",
        "true_labels = []\n",
        "pred_labels = []\n",
        "for X, y in loader_test:\n",
        "    output = modelc(X.to(0))\n",
        "    pred = output.argmax(dim=1).item()\n",
        "    true = y.item()\n",
        "    pred_labels.append(pred)\n",
        "    true_labels.append(true)"
      ],
      "metadata": {
        "id": "J3HIKTf8Y84T"
      },
      "execution_count": null,
      "outputs": []
    },
    {
      "cell_type": "code",
      "source": [
        "from sklearn.metrics import confusion_matrix, accuracy_score, f1_score\n",
        "import seaborn as sns\n",
        "import matplotlib.pyplot as plt\n",
        "import numpy as np\n",
        "import seaborn as sns\n",
        "\n",
        "# Compute the confusion matrix\n",
        "cm = confusion_matrix(true_labels, pred_labels)\n",
        "\n",
        "# Normalization can be applied by setting 'normalize=True'\n",
        "cm_normalized = cm.astype('float') / cm.sum(axis=1)[:, np.newaxis]\n",
        "\n",
        "# Calculate accuracy and other metrics\n",
        "accuracy = accuracy_score(true_labels, pred_labels)\n",
        "\n",
        "print(f'Accuracy: {accuracy}')\n",
        "\n",
        "# Plotting the confusion matrix using seaborn\n",
        "fig, ax = plt.subplots(figsize=(5, 4))\n",
        "sns.heatmap(cm_normalized, annot=True, ax=ax, cmap='Blues', fmt='.2f')\n",
        "\n",
        "# Labels, title and ticks\n",
        "label_classes = np.unique(true_labels)\n",
        "ax.set_xlabel('Predicted labels')\n",
        "ax.set_ylabel('True labels')\n",
        "ax.set_title('Normalized Confusion Matrix')\n",
        "ax.xaxis.set_ticklabels(label_classes)\n",
        "ax.yaxis.set_ticklabels(label_classes)"
      ],
      "metadata": {
        "colab": {
          "base_uri": "https://localhost:8080/",
          "height": 445
        },
        "id": "vRLo1YqqbI6F",
        "outputId": "02952509-12d2-4463-a13a-9cb1ada29a53"
      },
      "execution_count": null,
      "outputs": [
        {
          "output_type": "stream",
          "name": "stdout",
          "text": [
            "Accuracy: 0.5879629629629629\n"
          ]
        },
        {
          "output_type": "execute_result",
          "data": {
            "text/plain": [
              "[Text(0, 0.5, '0'), Text(0, 1.5, '1'), Text(0, 2.5, '2')]"
            ]
          },
          "metadata": {},
          "execution_count": 484
        },
        {
          "output_type": "display_data",
          "data": {
            "text/plain": [
              "<Figure size 500x400 with 2 Axes>"
            ],
            "image/png": "[encoded data removed]"
          },
          "metadata": {}
        }
      ]
    },
    {
      "cell_type": "markdown",
      "source": [],
      "metadata": {
        "id": "C3as28vUmRpr"
      }
    },
    {
      "cell_type": "code",
      "source": [
        "raw = np.load('raw_swa.npz')\n",
        "y = raw['label']\n",
        "X = raw['raw_recording']\n",
        "X = X[1]\n",
        "\n",
        "fig, ax = plt.subplots(figsize=(10, 4))\n",
        "ax.plot(range(len(X)), X)"
      ],
      "metadata": {
        "colab": {
          "base_uri": "https://localhost:8080/",
          "height": 403
        },
        "id": "vfq3fjw6cBI_",
        "outputId": "bac00b20-88c7-43cc-9316-5402f817c90c"
      },
      "execution_count": null,
      "outputs": [
        {
          "output_type": "execute_result",
          "data": {
            "text/plain": [
              "[<matplotlib.lines.Line2D at 0x7879958a9540>]"
            ]
          },
          "metadata": {},
          "execution_count": 490
        },
        {
          "output_type": "display_data",
          "data": {
            "text/plain": [
              "<Figure size 1000x400 with 1 Axes>"
            ],
            "image/png": "[encoded data removed]"
          },
          "metadata": {}
        }
      ]
    },
    {
      "cell_type": "code",
      "source": [],
      "metadata": {
        "id": "QEAhI5ArmJWY"
      },
      "execution_count": null,
      "outputs": []
    }
  ]
}