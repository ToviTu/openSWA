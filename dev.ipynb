{
 "cells": [
  {
   "cell_type": "code",
   "execution_count": 10,
   "metadata": {},
   "outputs": [
    {
     "name": "stdout",
     "output_type": "stream",
     "text": [
      "The autoreload extension is already loaded. To reload it, use:\n",
      "  %reload_ext autoreload\n"
     ]
    }
   ],
   "source": [
    "import pandas as pd\n",
    "import numpy as np\n",
    "from src.datasets import compile_data, LFP_Dataset, Dataset_Manager\n",
    "import torch\n",
    "\n",
    "%load_ext autoreload\n",
    "%autoreload 2"
   ]
  },
  {
   "cell_type": "code",
   "execution_count": 11,
   "metadata": {},
   "outputs": [],
   "source": [
    "label_file = \"/media/HlabShare/Aidan_Work/SleepScores/CAF26_consensus.npy\"\n",
    "probe_files = [\n",
    "    '/media/HlabShare/Sleep_Scoring/CAF00026/caf26_08072020/*/probe1/co/*lfp_group0.npy',\n",
    "    '/media/HlabShare/Sleep_Scoring/CAF00026/caf26_08072020/*/probe2/co/*lfp_group0.npy',\n",
    "    '/media/HlabShare/Sleep_Scoring/CAF00026/caf26_08072020/*/probe3/co/*lfp_group0.npy'\n",
    "]"
   ]
  },
  {
   "cell_type": "code",
   "execution_count": 12,
   "metadata": {},
   "outputs": [],
   "source": [
    "sfreq = 500\n",
    "bin_size = 4 * sfreq\n",
    "\n",
    "\n",
    "sleep_labels = np.load(label_file)\n",
    "all_probe_data = np.concatenate([compile_data(f) for f in probe_files])\n",
    "sleep_labels = np.concatenate([sleep_labels] * 3)\n",
    "sleep_labels = sleep_labels -1\n",
    "\n",
    "# Reshaping\n",
    "raw_data = all_probe_data\n",
    "sleep_states = sleep_labels\n",
    "sequence_length = 2000  # Number of time points in 4 seconds\n",
    "num_sequences = len(raw_data) // sequence_length\n",
    "X = raw_data[:num_sequences * sequence_length].reshape(num_sequences, sequence_length)\n",
    "X = torch.tensor(X, dtype=torch.float32)\n",
    "y = sleep_states[:num_sequences]\n",
    "y = torch.tensor(y, dtype=torch.long)"
   ]
  },
  {
   "cell_type": "code",
   "execution_count": 13,
   "metadata": {},
   "outputs": [],
   "source": [
    "dm = Dataset_Manager(X, y)\n",
    "dataloader = dm.get_train_loader(batch_size=32)"
   ]
  },
  {
   "cell_type": "code",
   "execution_count": 14,
   "metadata": {},
   "outputs": [
    {
     "name": "stdout",
     "output_type": "stream",
     "text": [
      "Classifier Epoch [1/10], Loss: 588.9328\n",
      "Classifier Epoch [2/10], Loss: 360.5461\n",
      "Classifier Epoch [3/10], Loss: 249.7449\n",
      "Classifier Epoch [4/10], Loss: 240.4285\n",
      "Classifier Epoch [5/10], Loss: 150.7247\n",
      "Classifier Epoch [6/10], Loss: 118.8231\n",
      "Classifier Epoch [7/10], Loss: 110.8104\n",
      "Classifier Epoch [8/10], Loss: 107.3675\n",
      "Classifier Epoch [9/10], Loss: 103.0941\n",
      "Classifier Epoch [10/10], Loss: 100.0352\n"
     ]
    }
   ],
   "source": [
    "from src.models import ConvAutoencoder, ClassDecoder\n",
    "from torch import nn\n",
    "from torch import optim\n",
    "\n",
    "\n",
    "# Initialize the encoder with classifier\n",
    "model = ConvAutoencoder()\n",
    "criterion = nn.MSELoss()\n",
    "optimizer = optim.Adam(model.parameters(), lr=0.001)\n",
    "\n",
    "# Training loop for classification\n",
    "num_epochs = 10\n",
    "for epoch in range(num_epochs):\n",
    "    for inputs, _ in dataloader:\n",
    "        # Forward pass\n",
    "        outputs = model(inputs)\n",
    "        loss = criterion(outputs, inputs)\n",
    "\n",
    "        # Backward pass and optimization\n",
    "        optimizer.zero_grad()\n",
    "        loss.backward()\n",
    "        optimizer.step()\n",
    "\n",
    "    print(f'Classifier Epoch [{epoch+1}/{num_epochs}], Loss: {loss.item():.4f}')"
   ]
  },
  {
   "cell_type": "code",
   "execution_count": 15,
   "metadata": {},
   "outputs": [
    {
     "name": "stdout",
     "output_type": "stream",
     "text": [
      "Classifier Epoch [1/10], Loss: 0.7643\n",
      "Classifier Epoch [2/10], Loss: 0.6059\n",
      "Classifier Epoch [3/10], Loss: 0.5477\n",
      "Classifier Epoch [4/10], Loss: 0.4955\n",
      "Classifier Epoch [5/10], Loss: 0.4554\n",
      "Classifier Epoch [6/10], Loss: 0.6568\n",
      "Classifier Epoch [7/10], Loss: 0.3436\n",
      "Classifier Epoch [8/10], Loss: 0.4553\n",
      "Classifier Epoch [9/10], Loss: 0.3220\n",
      "Classifier Epoch [10/10], Loss: 0.3235\n"
     ]
    }
   ],
   "source": [
    "classifier = ClassDecoder(model)\n",
    "criterion = nn.NLLLoss(weight=torch.tensor([0.05, 0.05, 0.90]))\n",
    "optimizer = optim.Adam(classifier.parameters(), lr=0.001)\n",
    "\n",
    "num_epochs = 10\n",
    "for epoch in range(num_epochs):\n",
    "    for inputs, labels in dataloader:\n",
    "        outputs = classifier(inputs)\n",
    "        loss = criterion(outputs, labels)\n",
    "\n",
    "        optimizer.zero_grad()\n",
    "        loss.backward()\n",
    "        optimizer.step()\n",
    "\n",
    "    print(f'Classifier Epoch [{epoch+1}/{num_epochs}], Loss: {loss.item():.4f}')"
   ]
  },
  {
   "cell_type": "code",
   "execution_count": 18,
   "metadata": {},
   "outputs": [
    {
     "name": "stdout",
     "output_type": "stream",
     "text": [
      "Accuracy: 0.6432098765432098\n",
      "Precision: 0.8104993400250989\n",
      "Recall: 0.6432098765432098\n",
      "F1 Score: 0.7021220256598466\n"
     ]
    },
    {
     "data": {
      "image/png": "[encoded data removed]",
      "text/plain": [
       "<Figure size 500x400 with 2 Axes>"
      ]
     },
     "metadata": {},
     "output_type": "display_data"
    }
   ],
   "source": [
    "from sklearn.metrics import confusion_matrix\n",
    "import seaborn as sns\n",
    "import matplotlib.pyplot as plt\n",
    "from sklearn.metrics import accuracy_score, precision_recall_fscore_support\n",
    "\n",
    "dataloader = dm.get_test_loader()\n",
    "\n",
    "# Assuming test_loader is a DataLoader for your test set\n",
    "true_labels = []\n",
    "pred_labels = []\n",
    "classifier.eval()  # Set the model to evaluation mode\n",
    "with torch.no_grad():  # Turn off gradients for validation\n",
    "    for inputs, labels in dataloader:\n",
    "        outputs = classifier(inputs)\n",
    "        \n",
    "        # Get predictions\n",
    "        _, predicted = torch.max(outputs, 1)\n",
    "        \n",
    "        # Append actual and predicted labels\n",
    "        true_labels.extend(labels.cpu().numpy())\n",
    "        pred_labels.extend(predicted.cpu().numpy())\n",
    "\n",
    "# Compute the confusion matrix\n",
    "cm = confusion_matrix(true_labels, pred_labels)\n",
    "\n",
    "# Normalization can be applied by setting 'normalize=True'\n",
    "cm_normalized = cm.astype('float') / cm.sum(axis=1)[:, np.newaxis]\n",
    "\n",
    "# Calculate accuracy and other metrics\n",
    "accuracy = accuracy_score(true_labels, pred_labels)\n",
    "precision, recall, f1_score, _ = precision_recall_fscore_support(true_labels, pred_labels, average='weighted')\n",
    "\n",
    "print(f'Accuracy: {accuracy}')\n",
    "print(f'Precision: {precision}')\n",
    "print(f'Recall: {recall}')\n",
    "print(f'F1 Score: {f1_score}')\n",
    "\n",
    "# Plotting the confusion matrix using seaborn\n",
    "fig, ax = plt.subplots(figsize=(5, 4))\n",
    "sns.heatmap(cm_normalized, annot=True, ax=ax, cmap='Blues', fmt='.2f')\n",
    "\n",
    "# Labels, title and ticks\n",
    "label_classes = np.unique(true_labels)\n",
    "ax.set_xlabel('Predicted labels')\n",
    "ax.set_ylabel('True labels')\n",
    "ax.set_title('Normalized Confusion Matrix')\n",
    "ax.xaxis.set_ticklabels(label_classes)\n",
    "ax.yaxis.set_ticklabels(label_classes)\n",
    "plt.show()"
   ]
  },
  {
   "cell_type": "code",
   "execution_count": 19,
   "metadata": {},
   "outputs": [
    {
     "name": "stdout",
     "output_type": "stream",
     "text": [
      "Classifier Epoch [1/10], Loss: 0.2811\n",
      "Classifier Epoch [2/10], Loss: 0.2575\n",
      "Classifier Epoch [3/10], Loss: 0.2454\n",
      "Classifier Epoch [4/10], Loss: 0.2483\n",
      "Classifier Epoch [5/10], Loss: 0.2257\n",
      "Classifier Epoch [6/10], Loss: 0.3330\n",
      "Classifier Epoch [7/10], Loss: 0.3428\n",
      "Classifier Epoch [8/10], Loss: 0.2033\n",
      "Classifier Epoch [9/10], Loss: 0.2191\n",
      "Classifier Epoch [10/10], Loss: 0.0594\n"
     ]
    }
   ],
   "source": [
    "dataloader = dm.get_train_loader(batch_size=32)\n",
    "\n",
    "class Encoder(nn.Module):\n",
    "    def __init__(self, encoded_space_dim=128*125):\n",
    "        super(Encoder, self).__init__()\n",
    "        self.encoder = nn.Sequential(\n",
    "            nn.Conv1d(1, 16, kernel_size=3, stride=2, padding=1),\n",
    "            nn.ReLU(),\n",
    "            nn.Conv1d(16, 32, kernel_size=3, stride=2, padding=1),\n",
    "            nn.ReLU(),\n",
    "            nn.Conv1d(32, 64, kernel_size=3, stride=2, padding=1),\n",
    "            nn.ReLU(),\n",
    "            nn.Conv1d(64, 128, kernel_size=3, stride=2, padding=1),\n",
    "            nn.ReLU(),\n",
    "        )\n",
    "        self.flatten = nn.Flatten(start_dim=1)\n",
    "        self.fc = nn.Linear(encoded_space_dim, 3)  # Assuming you have 3 classes\n",
    "\n",
    "    def forward(self, x):\n",
    "        x = x.unsqueeze(1)\n",
    "        x = self.encoder(x)\n",
    "        x = self.flatten(x)\n",
    "        x = self.fc(x)\n",
    "        return x\n",
    "\n",
    "# Initialize the encoder with classifier\n",
    "classifier_model = Encoder()\n",
    "criterion = nn.CrossEntropyLoss()\n",
    "optimizer = optim.Adam(classifier_model.parameters(), lr=0.001)\n",
    "\n",
    "# Training loop for classification\n",
    "num_epochs = 10\n",
    "for epoch in range(num_epochs):\n",
    "    for inputs, labels in dataloader:\n",
    "        # Forward pass\n",
    "        outputs = classifier_model(inputs)\n",
    "        loss = criterion(outputs, labels)\n",
    "\n",
    "        # Backward pass and optimization\n",
    "        optimizer.zero_grad()\n",
    "        loss.backward()\n",
    "        optimizer.step()\n",
    "\n",
    "    print(f'Classifier Epoch [{epoch+1}/{num_epochs}], Loss: {loss.item():.4f}')"
   ]
  },
  {
   "cell_type": "code",
   "execution_count": 22,
   "metadata": {},
   "outputs": [
    {
     "name": "stdout",
     "output_type": "stream",
     "text": [
      "Accuracy: 0.8170524691358024\n",
      "Precision: 0.8241569400216815\n",
      "Recall: 0.8170524691358024\n",
      "F1 Score: 0.8203424362582882\n"
     ]
    },
    {
     "data": {
      "image/png": "[encoded data removed]",
      "text/plain": [
       "<Figure size 500x400 with 2 Axes>"
      ]
     },
     "metadata": {},
     "output_type": "display_data"
    }
   ],
   "source": [
    "from sklearn.metrics import confusion_matrix\n",
    "import seaborn as sns\n",
    "import matplotlib.pyplot as plt\n",
    "from sklearn.metrics import accuracy_score, precision_recall_fscore_support\n",
    "\n",
    "dataloader = dm.get_test_loader()\n",
    "\n",
    "# Assuming test_loader is a DataLoader for your test set\n",
    "true_labels = []\n",
    "pred_labels = []\n",
    "classifier_model.eval()  # Set the model to evaluation mode\n",
    "with torch.no_grad():  # Turn off gradients for validation\n",
    "    for inputs, labels in dataloader:\n",
    "        outputs = classifier_model(inputs)\n",
    "        \n",
    "        # Get predictions\n",
    "        _, predicted = torch.max(outputs, 1)\n",
    "        \n",
    "        # Append actual and predicted labels\n",
    "        true_labels.extend(labels.cpu().numpy())\n",
    "        pred_labels.extend(predicted.cpu().numpy())\n",
    "\n",
    "# Compute the confusion matrix\n",
    "cm = confusion_matrix(true_labels, pred_labels)\n",
    "\n",
    "# Normalization can be applied by setting 'normalize=True'\n",
    "cm_normalized = cm.astype('float') / cm.sum(axis=1)[:, np.newaxis]\n",
    "\n",
    "# Calculate accuracy and other metrics\n",
    "accuracy = accuracy_score(true_labels, pred_labels)\n",
    "precision, recall, f1_score, _ = precision_recall_fscore_support(true_labels, pred_labels, average='weighted')\n",
    "\n",
    "print(f'Accuracy: {accuracy}')\n",
    "print(f'Precision: {precision}')\n",
    "print(f'Recall: {recall}')\n",
    "print(f'F1 Score: {f1_score}')\n",
    "\n",
    "# Plotting the confusion matrix using seaborn\n",
    "fig, ax = plt.subplots(figsize=(5, 4))\n",
    "sns.heatmap(cm_normalized, annot=True, ax=ax, cmap='Blues', fmt='.2f')\n",
    "\n",
    "# Labels, title and ticks\n",
    "label_classes = np.unique(true_labels)\n",
    "ax.set_xlabel('Predicted labels')\n",
    "ax.set_ylabel('True labels')\n",
    "ax.set_title('Normalized Confusion Matrix')\n",
    "ax.xaxis.set_ticklabels(label_classes)\n",
    "ax.yaxis.set_ticklabels(label_classes)\n",
    "plt.show()"
   ]
  },
  {
   "cell_type": "code",
   "execution_count": 17,
   "metadata": {},
   "outputs": [],
   "source": [
    "#END"
   ]
  }
 ],
 "metadata": {
  "kernelspec": {
   "display_name": "tovi_dl",
   "language": "python",
   "name": "python3"
  },
  "language_info": {
   "codemirror_mode": {
    "name": "ipython",
    "version": 3
   },
   "file_extension": ".py",
   "mimetype": "text/x-python",
   "name": "python",
   "nbconvert_exporter": "python",
   "pygments_lexer": "ipython3",
   "version": "3.10.11"
  }
 },
 "nbformat": 4,
 "nbformat_minor": 2
}
